{
  "nbformat": 4,
  "nbformat_minor": 0,
  "metadata": {
    "colab": {
      "name": "SIT742TASK2(GROUP116) (1).ipynb",
      "provenance": [],
      "collapsed_sections": []
    },
    "language_info": {
      "mimetype": "text/x-python",
      "nbconvert_exporter": "python",
      "version": "3.5.5",
      "name": "python",
      "file_extension": ".py",
      "pygments_lexer": "ipython3",
      "codemirror_mode": {
        "version": 3,
        "name": "ipython"
      }
    },
    "kernelspec": {
      "display_name": "Python 3.5",
      "name": "python3",
      "language": "python"
    }
  },
  "cells": [
    {
      "cell_type": "markdown",
      "metadata": {
        "id": "eASNvREtBU9G"
      },
      "source": [
        "# 1.Import Spark"
      ]
    },
    {
      "cell_type": "code",
      "metadata": {
        "id": "duCJfMrnGu00",
        "cellView": "code",
        "colab": {
          "base_uri": "https://localhost:8080/",
          "height": 158
        },
        "outputId": "d67ae345-5019-4b6a-bf2a-1ba0bb38b26d"
      },
      "source": [
        "!pip install wget\n",
        "!apt-get install openjdk-8-jdk-headless -qq > /dev/null\n",
        "!wget -q https://archive.apache.org/dist/spark/spark-2.4.0/spark-2.4.0-bin-hadoop2.7.tgz\n",
        "!tar xf spark-2.4.0-bin-hadoop2.7.tgz\n",
        "!pip install -q findspark\n",
        "import os\n",
        "os.environ[\"JAVA_HOME\"] = \"/usr/lib/jvm/java-8-openjdk-amd64\"\n",
        "os.environ[\"SPARK_HOME\"] = \"/content/spark-2.4.0-bin-hadoop2.7\""
      ],
      "execution_count": null,
      "outputs": [
        {
          "output_type": "stream",
          "text": [
            "Collecting wget\n",
            "  Downloading https://files.pythonhosted.org/packages/47/6a/62e288da7bcda82b935ff0c6cfe542970f04e29c756b0e147251b2fb251f/wget-3.2.zip\n",
            "Building wheels for collected packages: wget\n",
            "  Building wheel for wget (setup.py) ... \u001b[?25l\u001b[?25hdone\n",
            "  Stored in directory: /root/.cache/pip/wheels/40/15/30/7d8f7cea2902b4db79e3fea550d7d7b85ecb27ef992b618f3f\n",
            "Successfully built wget\n",
            "Installing collected packages: wget\n",
            "Successfully installed wget-3.2\n"
          ],
          "name": "stdout"
        }
      ]
    },
    {
      "cell_type": "code",
      "metadata": {
        "id": "aGOo805LA-fM"
      },
      "source": [
        "import findspark\n",
        "findspark.init()\n",
        "from pyspark.sql import SparkSession "
      ],
      "execution_count": null,
      "outputs": []
    },
    {
      "cell_type": "markdown",
      "metadata": {
        "id": "K7bEtO_fBZmE"
      },
      "source": [
        "# 2.Read and check data"
      ]
    },
    {
      "cell_type": "code",
      "metadata": {
        "id": "EADPspOv0Auh"
      },
      "source": [
        "import wget\n",
        "link_to_data = 'https://github.com/tulip-lab/sit742/raw/master/Assessment/2019/data/bank.csv'\n",
        "DataSet = wget.download(link_to_data)"
      ],
      "execution_count": null,
      "outputs": []
    },
    {
      "cell_type": "code",
      "metadata": {
        "id": "tiM-PiiR0Aup",
        "colab": {
          "base_uri": "https://localhost:8080/",
          "height": 34
        },
        "outputId": "8ab875ab-14d6-4de0-bde3-a63d3d45a6b3"
      },
      "source": [
        "!ls"
      ],
      "execution_count": null,
      "outputs": [
        {
          "output_type": "stream",
          "text": [
            "bank.csv  sample_data  spark-2.4.0-bin-hadoop2.7  spark-2.4.0-bin-hadoop2.7.tgz\n"
          ],
          "name": "stdout"
        }
      ]
    },
    {
      "cell_type": "code",
      "metadata": {
        "id": "FQ8Ts9eZBA-M",
        "colab": {
          "base_uri": "https://localhost:8080/",
          "height": 550
        },
        "outputId": "6e19a01f-9213-4651-b57e-ae1af609d6f9"
      },
      "source": [
        "# Import the 'bank.csv' as a Spark dataframe and name it as df\n",
        "spark = SparkSession.builder.appName('ml-bank').getOrCreate()\n",
        "df = spark.read.csv('bank.csv', header = True, inferSchema = True) \n",
        "df.printSchema() \n",
        "df.show(5)"
      ],
      "execution_count": null,
      "outputs": [
        {
          "output_type": "stream",
          "text": [
            "root\n",
            " |-- age: integer (nullable = true)\n",
            " |-- job: string (nullable = true)\n",
            " |-- marital: string (nullable = true)\n",
            " |-- education: string (nullable = true)\n",
            " |-- default: string (nullable = true)\n",
            " |-- balance: integer (nullable = true)\n",
            " |-- housing: string (nullable = true)\n",
            " |-- loan: string (nullable = true)\n",
            " |-- contact: string (nullable = true)\n",
            " |-- day: integer (nullable = true)\n",
            " |-- month: string (nullable = true)\n",
            " |-- duration: integer (nullable = true)\n",
            " |-- campaign: integer (nullable = true)\n",
            " |-- pdays: integer (nullable = true)\n",
            " |-- previous: integer (nullable = true)\n",
            " |-- poutcome: string (nullable = true)\n",
            " |-- deposit: string (nullable = true)\n",
            "\n",
            "+---+----------+-------+---------+-------+-------+-------+----+-------+---+-----+--------+--------+-----+--------+--------+-------+\n",
            "|age|       job|marital|education|default|balance|housing|loan|contact|day|month|duration|campaign|pdays|previous|poutcome|deposit|\n",
            "+---+----------+-------+---------+-------+-------+-------+----+-------+---+-----+--------+--------+-----+--------+--------+-------+\n",
            "| 59|    admin.|married|secondary|     no|   2343|    yes|  no|unknown|  5|  may|    1042|       1|   -1|       0| unknown|    yes|\n",
            "| 56|    admin.|married|secondary|     no|     45|     no|  no|unknown|  5|  may|    1467|       1|   -1|       0| unknown|    yes|\n",
            "| 41|technician|married|secondary|     no|   1270|    yes|  no|unknown|  5|  may|    1389|       1|   -1|       0| unknown|    yes|\n",
            "| 55|  services|married|secondary|     no|   2476|    yes|  no|unknown|  5|  may|     579|       1|   -1|       0| unknown|    yes|\n",
            "| 54|    admin.|married| tertiary|     no|    184|     no|  no|unknown|  5|  may|     673|       2|   -1|       0| unknown|    yes|\n",
            "+---+----------+-------+---------+-------+-------+-------+----+-------+---+-----+--------+--------+-----+--------+--------+-------+\n",
            "only showing top 5 rows\n",
            "\n"
          ],
          "name": "stdout"
        }
      ]
    },
    {
      "cell_type": "code",
      "metadata": {
        "id": "XJGWVc0yB0UA",
        "colab": {
          "base_uri": "https://localhost:8080/",
          "height": 214
        },
        "outputId": "5ad8678d-7cad-4a88-f90b-9e134e43b34f"
      },
      "source": [
        "# Check data distribution\n",
        "# You may use printSchema() \n",
        "df.describe().show()"
      ],
      "execution_count": null,
      "outputs": [
        {
          "output_type": "stream",
          "text": [
            "+-------+------------------+-------+--------+---------+-------+------------------+-------+-----+--------+------------------+-----+------------------+------------------+------------------+------------------+--------+-------+\n",
            "|summary|               age|    job| marital|education|default|           balance|housing| loan| contact|               day|month|          duration|          campaign|             pdays|          previous|poutcome|deposit|\n",
            "+-------+------------------+-------+--------+---------+-------+------------------+-------+-----+--------+------------------+-----+------------------+------------------+------------------+------------------+--------+-------+\n",
            "|  count|             11162|  11162|   11162|    11162|  11162|             11162|  11162|11162|   11162|             11162|11162|             11162|             11162|             11162|             11162|   11162|  11162|\n",
            "|   mean|41.231947679627304|   null|    null|     null|   null|1528.5385235620856|   null| null|    null|15.658036194230425| null|371.99381831213043| 2.508421429851281| 51.33040673714388|0.8325568894463358|    null|   null|\n",
            "| stddev|11.913369192215518|   null|    null|     null|   null| 3225.413325946149|   null| null|    null| 8.420739541006462| null|347.12838571630687|2.7220771816614824|108.75828197197717| 2.292007218670508|    null|   null|\n",
            "|    min|                18| admin.|divorced|  primary|     no|             -6847|     no|   no|cellular|                 1|  apr|                 2|                 1|                -1|                 0| failure|     no|\n",
            "|    max|                95|unknown|  single|  unknown|    yes|             81204|    yes|  yes| unknown|                31|  sep|              3881|                63|               854|                58| unknown|    yes|\n",
            "+-------+------------------+-------+--------+---------+-------+------------------+-------+-----+--------+------------------+-----+------------------+------------------+------------------+------------------+--------+-------+\n",
            "\n"
          ],
          "name": "stdout"
        }
      ]
    },
    {
      "cell_type": "markdown",
      "metadata": {
        "id": "wKQMhrtFChHa"
      },
      "source": [
        "# 3.Select features"
      ]
    },
    {
      "cell_type": "code",
      "metadata": {
        "id": "VU5xMqN_RyM2",
        "colab": {
          "base_uri": "https://localhost:8080/",
          "height": 478
        },
        "outputId": "b09c9bfc-9237-422e-d1bc-82ce892ae30f"
      },
      "source": [
        "#Select features ('age', 'job', 'marital', 'education', 'default', 'balance', 'housing', 'loan', 'campaign', 'pdays', 'previous', 'poutcome', 'deposit') as df2\n",
        "df2=df.select('age', 'job', 'marital', 'education', 'default', 'balance', 'housing', 'loan', 'campaign', 'pdays', 'previous', 'poutcome', 'deposit')\n",
        "df2.show()"
      ],
      "execution_count": null,
      "outputs": [
        {
          "output_type": "stream",
          "text": [
            "+---+-----------+--------+---------+-------+-------+-------+----+--------+-----+--------+--------+-------+\n",
            "|age|        job| marital|education|default|balance|housing|loan|campaign|pdays|previous|poutcome|deposit|\n",
            "+---+-----------+--------+---------+-------+-------+-------+----+--------+-----+--------+--------+-------+\n",
            "| 59|     admin.| married|secondary|     no|   2343|    yes|  no|       1|   -1|       0| unknown|    yes|\n",
            "| 56|     admin.| married|secondary|     no|     45|     no|  no|       1|   -1|       0| unknown|    yes|\n",
            "| 41| technician| married|secondary|     no|   1270|    yes|  no|       1|   -1|       0| unknown|    yes|\n",
            "| 55|   services| married|secondary|     no|   2476|    yes|  no|       1|   -1|       0| unknown|    yes|\n",
            "| 54|     admin.| married| tertiary|     no|    184|     no|  no|       2|   -1|       0| unknown|    yes|\n",
            "| 42| management|  single| tertiary|     no|      0|    yes| yes|       2|   -1|       0| unknown|    yes|\n",
            "| 56| management| married| tertiary|     no|    830|    yes| yes|       1|   -1|       0| unknown|    yes|\n",
            "| 60|    retired|divorced|secondary|     no|    545|    yes|  no|       1|   -1|       0| unknown|    yes|\n",
            "| 37| technician| married|secondary|     no|      1|    yes|  no|       1|   -1|       0| unknown|    yes|\n",
            "| 28|   services|  single|secondary|     no|   5090|    yes|  no|       3|   -1|       0| unknown|    yes|\n",
            "| 38|     admin.|  single|secondary|     no|    100|    yes|  no|       1|   -1|       0| unknown|    yes|\n",
            "| 30|blue-collar| married|secondary|     no|    309|    yes|  no|       2|   -1|       0| unknown|    yes|\n",
            "| 29| management| married| tertiary|     no|    199|    yes| yes|       4|   -1|       0| unknown|    yes|\n",
            "| 46|blue-collar|  single| tertiary|     no|    460|    yes|  no|       2|   -1|       0| unknown|    yes|\n",
            "| 31| technician|  single| tertiary|     no|    703|    yes|  no|       2|   -1|       0| unknown|    yes|\n",
            "| 35| management|divorced| tertiary|     no|   3837|    yes|  no|       1|   -1|       0| unknown|    yes|\n",
            "| 32|blue-collar|  single|  primary|     no|    611|    yes|  no|       3|   -1|       0| unknown|    yes|\n",
            "| 49|   services| married|secondary|     no|     -8|    yes|  no|       1|   -1|       0| unknown|    yes|\n",
            "| 41|     admin.| married|secondary|     no|     55|    yes|  no|       2|   -1|       0| unknown|    yes|\n",
            "| 49|     admin.|divorced|secondary|     no|    168|    yes| yes|       1|   -1|       0| unknown|    yes|\n",
            "+---+-----------+--------+---------+-------+-------+-------+----+--------+-----+--------+--------+-------+\n",
            "only showing top 20 rows\n",
            "\n"
          ],
          "name": "stdout"
        }
      ]
    },
    {
      "cell_type": "code",
      "metadata": {
        "id": "_OVh5nlRFDXC",
        "colab": {
          "base_uri": "https://localhost:8080/",
          "height": 34
        },
        "outputId": "99240e72-9b22-4077-ecfc-dcfca72472fa"
      },
      "source": [
        "df2.registerTempTable(\"bank\");\n",
        "print(\"Total records in the table before removing invalid records:\" + str(df2.count()))"
      ],
      "execution_count": null,
      "outputs": [
        {
          "output_type": "stream",
          "text": [
            "Total records in the table before removing invalid records:11162\n"
          ],
          "name": "stdout"
        }
      ]
    },
    {
      "cell_type": "code",
      "metadata": {
        "id": "vwF5sqRYa_eI",
        "colab": {
          "base_uri": "https://localhost:8080/",
          "height": 34
        },
        "outputId": "7596d6fa-0359-4374-9813-c92a06a4194a"
      },
      "source": [
        "#Remove invalid rows/records using spark.sql \n",
        "#Removing the rows which having 'null' value for numerical columns and also for String columns removing rows that has value 'unknown' and 'null'\n",
        "#and only the failure and success rows are present in the potcome column\n",
        "\n",
        "df2 = spark.sql(\"\"\"\n",
        "      Select * FROM bank where NOT \n",
        "      (age IS NULL OR job IS NULL OR job = 'unknown' OR marital IS NULL OR marital = 'unknown' OR education IS NULL OR education = 'unknown' OR default IS NULL OR default = 'unknown' OR balance IS NULL OR\n",
        "       housing IS NULL OR housing = 'unknown' OR loan IS NULL OR loan = 'unknown' OR campaign IS NULL OR pdays IS NULL OR previous IS NULL OR poutcome IS NULL OR poutcome = 'unknown' OR\n",
        "       deposit IS NULL OR deposit = 'unknown')  AND poutcome IN ('failure','success')\n",
        "\n",
        "       \"\"\");\n",
        "print(\"No of rows present after removing invalid records:\"+ str(df2.count()))"
      ],
      "execution_count": null,
      "outputs": [
        {
          "output_type": "stream",
          "text": [
            "No of rows present after removing invalid records:2181\n"
          ],
          "name": "stdout"
        }
      ]
    },
    {
      "cell_type": "code",
      "metadata": {
        "id": "FBw9xkPuG9CT"
      },
      "source": [
        "#Covert categorical features to metric features using One hot encoding\n",
        "from pyspark.ml.feature import OneHotEncoderEstimator, StringIndexer, VectorAssembler\n",
        "#charColumns list contains string string columns\n",
        "charColumns = ['job', 'marital', 'education', 'default', 'housing', 'loan', 'poutcome'] \n",
        "#List that contains stages for the pipeline\n",
        "stages = []"
      ],
      "execution_count": null,
      "outputs": []
    },
    {
      "cell_type": "code",
      "metadata": {
        "id": "A_T8qvxzR-oI"
      },
      "source": [
        "# coverting categorical data to Vectorized data\n",
        "for categoricalColumn in charColumns:\n",
        "    #Creating a string indexer stage\n",
        "    stringIndexer = StringIndexer(inputCol = categoricalColumn, outputCol = categoricalColumn + 'Index')\n",
        "    #creating a one hot encoder stage \n",
        "    encoderEstimator = OneHotEncoderEstimator(inputCols=[stringIndexer.getOutputCol()], outputCols=[categoricalColumn + \"Vec\"])\n",
        "    #appending String Indexer and encoderEstimater into stages list\n",
        "    stages += [stringIndexer, encoderEstimator]\n",
        "    \n",
        "label_stringIdx = StringIndexer(inputCol = 'deposit', outputCol = 'label')\n",
        "stages += [label_stringIdx]\n",
        "\n",
        "numericColumns = ['age', 'balance', 'campaign', 'pdays', 'previous']\n",
        "assemblerInputs = [c + \"Vec\" for c in charColumns] + numericColumns\n",
        "assembler = VectorAssembler(inputCols=assemblerInputs, outputCol=\"Scaledfeatures\")\n",
        "#appending assembler to the stages list\n",
        "stages += [assembler]"
      ],
      "execution_count": null,
      "outputs": []
    },
    {
      "cell_type": "code",
      "metadata": {
        "id": "F2TtQb1gF1iI",
        "colab": {
          "base_uri": "https://localhost:8080/",
          "height": 1050
        },
        "outputId": "8e692f1c-b1f4-4b3e-e4ea-474a249367d2"
      },
      "source": [
        "from pyspark.ml import Pipeline\n",
        "#Creating a pieline\n",
        "pipeline = Pipeline(stages = stages)\n",
        "pipeline_Model = pipeline.fit(df2)\n",
        "df3 = pipeline_Model.transform(df2)\n",
        "df3.printSchema()\n",
        "df3.show()\n"
      ],
      "execution_count": null,
      "outputs": [
        {
          "output_type": "stream",
          "text": [
            "root\n",
            " |-- age: integer (nullable = true)\n",
            " |-- job: string (nullable = true)\n",
            " |-- marital: string (nullable = true)\n",
            " |-- education: string (nullable = true)\n",
            " |-- default: string (nullable = true)\n",
            " |-- balance: integer (nullable = true)\n",
            " |-- housing: string (nullable = true)\n",
            " |-- loan: string (nullable = true)\n",
            " |-- campaign: integer (nullable = true)\n",
            " |-- pdays: integer (nullable = true)\n",
            " |-- previous: integer (nullable = true)\n",
            " |-- poutcome: string (nullable = true)\n",
            " |-- deposit: string (nullable = true)\n",
            " |-- jobIndex: double (nullable = false)\n",
            " |-- jobVec: vector (nullable = true)\n",
            " |-- maritalIndex: double (nullable = false)\n",
            " |-- maritalVec: vector (nullable = true)\n",
            " |-- educationIndex: double (nullable = false)\n",
            " |-- educationVec: vector (nullable = true)\n",
            " |-- defaultIndex: double (nullable = false)\n",
            " |-- defaultVec: vector (nullable = true)\n",
            " |-- housingIndex: double (nullable = false)\n",
            " |-- housingVec: vector (nullable = true)\n",
            " |-- loanIndex: double (nullable = false)\n",
            " |-- loanVec: vector (nullable = true)\n",
            " |-- poutcomeIndex: double (nullable = false)\n",
            " |-- poutcomeVec: vector (nullable = true)\n",
            " |-- label: double (nullable = false)\n",
            " |-- Scaledfeatures: vector (nullable = true)\n",
            "\n",
            "+---+------------+--------+---------+-------+-------+-------+----+--------+-----+--------+--------+-------+--------+--------------+------------+-------------+--------------+-------------+------------+-------------+------------+-------------+---------+-------------+-------------+-------------+-----+--------------------+\n",
            "|age|         job| marital|education|default|balance|housing|loan|campaign|pdays|previous|poutcome|deposit|jobIndex|        jobVec|maritalIndex|   maritalVec|educationIndex| educationVec|defaultIndex|   defaultVec|housingIndex|   housingVec|loanIndex|      loanVec|poutcomeIndex|  poutcomeVec|label|      Scaledfeatures|\n",
            "+---+------------+--------+---------+-------+-------+-------+----+--------+-----+--------+--------+-------+--------+--------------+------------+-------------+--------------+-------------+------------+-------------+------------+-------------+---------+-------------+-------------+-------------+-----+--------------------+\n",
            "| 33|    services| married|secondary|     no|   3444|    yes|  no|       1|   91|       4| failure|    yes|     5.0|(10,[5],[1.0])|         0.0|(2,[0],[1.0])|           0.0|(2,[0],[1.0])|         0.0|(1,[0],[1.0])|         1.0|    (1,[],[])|      0.0|(1,[0],[1.0])|          0.0|(1,[0],[1.0])|  0.0|(23,[5,10,12,14,1...|\n",
            "| 56|  technician| married|secondary|     no|    589|    yes|  no|       1|  147|       2| success|    yes|     1.0|(10,[1],[1.0])|         0.0|(2,[0],[1.0])|           0.0|(2,[0],[1.0])|         0.0|(1,[0],[1.0])|         1.0|    (1,[],[])|      0.0|(1,[0],[1.0])|          1.0|    (1,[],[])|  0.0|(23,[1,10,12,14,1...|\n",
            "| 34|      admin.| married| tertiary|     no|    899|    yes|  no|       1|  170|       3| failure|    yes|     2.0|(10,[2],[1.0])|         0.0|(2,[0],[1.0])|           1.0|(2,[1],[1.0])|         0.0|(1,[0],[1.0])|         1.0|    (1,[],[])|      0.0|(1,[0],[1.0])|          0.0|(1,[0],[1.0])|  0.0|(23,[2,10,13,14,1...|\n",
            "| 53|     retired| married| tertiary|     no|   2269|     no|  no|       2|  150|       1| success|    yes|     4.0|(10,[4],[1.0])|         0.0|(2,[0],[1.0])|           1.0|(2,[1],[1.0])|         0.0|(1,[0],[1.0])|         0.0|(1,[0],[1.0])|      0.0|(1,[0],[1.0])|          1.0|    (1,[],[])|  0.0|(23,[4,10,13,14,1...|\n",
            "| 37|  technician| married|secondary|     no|   5115|    yes|  no|       2|  171|       4| failure|    yes|     1.0|(10,[1],[1.0])|         0.0|(2,[0],[1.0])|           0.0|(2,[0],[1.0])|         0.0|(1,[0],[1.0])|         1.0|    (1,[],[])|      0.0|(1,[0],[1.0])|          0.0|(1,[0],[1.0])|  0.0|(23,[1,10,12,14,1...|\n",
            "| 45|entrepreneur| married|secondary|     no|    781|     no| yes|       2|  126|       2| failure|    yes|     9.0|(10,[9],[1.0])|         0.0|(2,[0],[1.0])|           0.0|(2,[0],[1.0])|         0.0|(1,[0],[1.0])|         0.0|(1,[0],[1.0])|      1.0|    (1,[],[])|          0.0|(1,[0],[1.0])|  0.0|(23,[9,10,12,14,1...|\n",
            "| 46|  unemployed|divorced|secondary|     no|   3354|    yes|  no|       1|  174|       1| success|    yes|     7.0|(10,[7],[1.0])|         2.0|    (2,[],[])|           0.0|(2,[0],[1.0])|         0.0|(1,[0],[1.0])|         1.0|    (1,[],[])|      0.0|(1,[0],[1.0])|          1.0|    (1,[],[])|  0.0|(23,[7,12,14,16,1...|\n",
            "| 40|  management| married| tertiary|     no|   3352|    yes|  no|       2|   27|       1| success|    yes|     0.0|(10,[0],[1.0])|         0.0|(2,[0],[1.0])|           1.0|(2,[1],[1.0])|         0.0|(1,[0],[1.0])|         1.0|    (1,[],[])|      0.0|(1,[0],[1.0])|          1.0|    (1,[],[])|  0.0|(23,[0,10,13,14,1...|\n",
            "| 32|  technician| married| tertiary|     no|   4654|    yes| yes|       1|  128|       2| failure|    yes|     1.0|(10,[1],[1.0])|         0.0|(2,[0],[1.0])|           1.0|(2,[1],[1.0])|         0.0|(1,[0],[1.0])|         1.0|    (1,[],[])|      1.0|    (1,[],[])|          0.0|(1,[0],[1.0])|  0.0|(23,[1,10,13,14,1...|\n",
            "| 30| blue-collar| married|secondary|     no|    501|    yes| yes|       1|  177|       1| failure|    yes|     3.0|(10,[3],[1.0])|         0.0|(2,[0],[1.0])|           0.0|(2,[0],[1.0])|         0.0|(1,[0],[1.0])|         1.0|    (1,[],[])|      1.0|    (1,[],[])|          0.0|(1,[0],[1.0])|  0.0|(23,[3,10,12,14,1...|\n",
            "| 46|  technician| married| tertiary|     no|      0|     no|  no|       1|  167|       1| failure|    yes|     1.0|(10,[1],[1.0])|         0.0|(2,[0],[1.0])|           1.0|(2,[1],[1.0])|         0.0|(1,[0],[1.0])|         0.0|(1,[0],[1.0])|      0.0|(1,[0],[1.0])|          0.0|(1,[0],[1.0])|  0.0|(23,[1,10,13,14,1...|\n",
            "| 38|entrepreneur| married| tertiary|     no|   1110|    yes|  no|       2|  183|       2| failure|    yes|     9.0|(10,[9],[1.0])|         0.0|(2,[0],[1.0])|           1.0|(2,[1],[1.0])|         0.0|(1,[0],[1.0])|         1.0|    (1,[],[])|      0.0|(1,[0],[1.0])|          0.0|(1,[0],[1.0])|  0.0|(23,[9,10,13,14,1...|\n",
            "| 32|    services| married|secondary|     no|    983|    yes|  no|       2|  133|       1| failure|    yes|     5.0|(10,[5],[1.0])|         0.0|(2,[0],[1.0])|           0.0|(2,[0],[1.0])|         0.0|(1,[0],[1.0])|         1.0|    (1,[],[])|      0.0|(1,[0],[1.0])|          0.0|(1,[0],[1.0])|  0.0|(23,[5,10,12,14,1...|\n",
            "| 31|  unemployed| married|secondary|     no|    314|    yes|  no|       3|  178|       7| failure|    yes|     7.0|(10,[7],[1.0])|         0.0|(2,[0],[1.0])|           0.0|(2,[0],[1.0])|         0.0|(1,[0],[1.0])|         1.0|    (1,[],[])|      0.0|(1,[0],[1.0])|          0.0|(1,[0],[1.0])|  0.0|(23,[7,10,12,14,1...|\n",
            "| 50| blue-collar| married|  primary|     no|  12519|    yes|  no|       3|   34|       1| failure|    yes|     3.0|(10,[3],[1.0])|         0.0|(2,[0],[1.0])|           2.0|    (2,[],[])|         0.0|(1,[0],[1.0])|         1.0|    (1,[],[])|      0.0|(1,[0],[1.0])|          0.0|(1,[0],[1.0])|  0.0|(23,[3,10,14,16,1...|\n",
            "| 47|  technician| married|secondary|     no|      0|     no|  no|       1|   10|       1| failure|    yes|     1.0|(10,[1],[1.0])|         0.0|(2,[0],[1.0])|           0.0|(2,[0],[1.0])|         0.0|(1,[0],[1.0])|         0.0|(1,[0],[1.0])|      0.0|(1,[0],[1.0])|          0.0|(1,[0],[1.0])|  0.0|(23,[1,10,12,14,1...|\n",
            "| 59|  management| married| tertiary|     no|   7049|     no|  no|       1|  163|       2| failure|    yes|     0.0|(10,[0],[1.0])|         0.0|(2,[0],[1.0])|           1.0|(2,[1],[1.0])|         0.0|(1,[0],[1.0])|         0.0|(1,[0],[1.0])|      0.0|(1,[0],[1.0])|          0.0|(1,[0],[1.0])|  0.0|(23,[0,10,13,14,1...|\n",
            "| 31|  management| married|secondary|     no|   8629|    yes|  no|       1|  184|       2| failure|    yes|     0.0|(10,[0],[1.0])|         0.0|(2,[0],[1.0])|           0.0|(2,[0],[1.0])|         0.0|(1,[0],[1.0])|         1.0|    (1,[],[])|      0.0|(1,[0],[1.0])|          0.0|(1,[0],[1.0])|  0.0|(23,[0,10,12,14,1...|\n",
            "| 53| blue-collar| married|secondary|     no|   1777|    yes|  no|       5|  154|       1| failure|    yes|     3.0|(10,[3],[1.0])|         0.0|(2,[0],[1.0])|           0.0|(2,[0],[1.0])|         0.0|(1,[0],[1.0])|         1.0|    (1,[],[])|      0.0|(1,[0],[1.0])|          0.0|(1,[0],[1.0])|  0.0|(23,[3,10,12,14,1...|\n",
            "| 40|  technician|  single| tertiary|     no|   1646|    yes|  no|       1|  242|       2| failure|    yes|     1.0|(10,[1],[1.0])|         1.0|(2,[1],[1.0])|           1.0|(2,[1],[1.0])|         0.0|(1,[0],[1.0])|         1.0|    (1,[],[])|      0.0|(1,[0],[1.0])|          0.0|(1,[0],[1.0])|  0.0|(23,[1,11,13,14,1...|\n",
            "+---+------------+--------+---------+-------+-------+-------+----+--------+-----+--------+--------+-------+--------+--------------+------------+-------------+--------------+-------------+------------+-------------+------------+-------------+---------+-------------+-------------+-------------+-----+--------------------+\n",
            "only showing top 20 rows\n",
            "\n"
          ],
          "name": "stdout"
        }
      ]
    },
    {
      "cell_type": "markdown",
      "metadata": {
        "id": "pOqHERYJCQuC"
      },
      "source": [
        "## 3.1 normalisation"
      ]
    },
    {
      "cell_type": "code",
      "metadata": {
        "id": "cfL6_sca5VwI",
        "colab": {
          "base_uri": "https://localhost:8080/",
          "height": 978
        },
        "outputId": "a9490e50-430c-4248-9b32-f7e0b4fa3806"
      },
      "source": [
        "#Apply Min-Max normalisation on each attribute using MinMaxScaler  \n",
        "from pyspark.ml.feature import MinMaxScaler\n",
        "#Normalise the scaledfeatures to get values between 0 and 1 using minmax normalisation\n",
        "minmaxScaler = MinMaxScaler(inputCol=\"Scaledfeatures\", outputCol=\"features\")\n",
        "scalerResponse = minmaxScaler.fit(df3)\n",
        "scalerTransform = scalerResponse.transform(df3)\n",
        "df3=scalerTransform\n",
        "#displaying minimum and maximum value using minmax()\n",
        "print(\" scaled features: [%f, %f]\" % (minmaxScaler.getMin(), minmaxScaler.getMax()))\n",
        "#selecting label and features columns\n",
        "df3.select('label','features').show()\n",
        "df3.show()"
      ],
      "execution_count": null,
      "outputs": [
        {
          "output_type": "stream",
          "text": [
            " scaled features: [0.000000, 1.000000]\n",
            "+-----+--------------------+\n",
            "|label|            features|\n",
            "+-----+--------------------+\n",
            "|  0.0|[0.0,0.0,0.0,0.0,...|\n",
            "|  0.0|[0.0,1.0,0.0,0.0,...|\n",
            "|  0.0|[0.0,0.0,1.0,0.0,...|\n",
            "|  0.0|[0.0,0.0,0.0,0.0,...|\n",
            "|  0.0|[0.0,1.0,0.0,0.0,...|\n",
            "|  0.0|[0.0,0.0,0.0,0.0,...|\n",
            "|  0.0|[0.0,0.0,0.0,0.0,...|\n",
            "|  0.0|[1.0,0.0,0.0,0.0,...|\n",
            "|  0.0|[0.0,1.0,0.0,0.0,...|\n",
            "|  0.0|[0.0,0.0,0.0,1.0,...|\n",
            "|  0.0|[0.0,1.0,0.0,0.0,...|\n",
            "|  0.0|[0.0,0.0,0.0,0.0,...|\n",
            "|  0.0|[0.0,0.0,0.0,0.0,...|\n",
            "|  0.0|[0.0,0.0,0.0,0.0,...|\n",
            "|  0.0|[0.0,0.0,0.0,1.0,...|\n",
            "|  0.0|[0.0,1.0,0.0,0.0,...|\n",
            "|  0.0|[1.0,0.0,0.0,0.0,...|\n",
            "|  0.0|[1.0,0.0,0.0,0.0,...|\n",
            "|  0.0|[0.0,0.0,0.0,1.0,...|\n",
            "|  0.0|[0.0,1.0,0.0,0.0,...|\n",
            "+-----+--------------------+\n",
            "only showing top 20 rows\n",
            "\n",
            "+---+------------+--------+---------+-------+-------+-------+----+--------+-----+--------+--------+-------+--------+--------------+------------+-------------+--------------+-------------+------------+-------------+------------+-------------+---------+-------------+-------------+-------------+-----+--------------------+--------------------+\n",
            "|age|         job| marital|education|default|balance|housing|loan|campaign|pdays|previous|poutcome|deposit|jobIndex|        jobVec|maritalIndex|   maritalVec|educationIndex| educationVec|defaultIndex|   defaultVec|housingIndex|   housingVec|loanIndex|      loanVec|poutcomeIndex|  poutcomeVec|label|      Scaledfeatures|            features|\n",
            "+---+------------+--------+---------+-------+-------+-------+----+--------+-----+--------+--------+-------+--------+--------------+------------+-------------+--------------+-------------+------------+-------------+------------+-------------+---------+-------------+-------------+-------------+-----+--------------------+--------------------+\n",
            "| 33|    services| married|secondary|     no|   3444|    yes|  no|       1|   91|       4| failure|    yes|     5.0|(10,[5],[1.0])|         0.0|(2,[0],[1.0])|           0.0|(2,[0],[1.0])|         0.0|(1,[0],[1.0])|         1.0|    (1,[],[])|      0.0|(1,[0],[1.0])|          0.0|(1,[0],[1.0])|  0.0|(23,[5,10,12,14,1...|[0.0,0.0,0.0,0.0,...|\n",
            "| 56|  technician| married|secondary|     no|    589|    yes|  no|       1|  147|       2| success|    yes|     1.0|(10,[1],[1.0])|         0.0|(2,[0],[1.0])|           0.0|(2,[0],[1.0])|         0.0|(1,[0],[1.0])|         1.0|    (1,[],[])|      0.0|(1,[0],[1.0])|          1.0|    (1,[],[])|  0.0|(23,[1,10,12,14,1...|[0.0,1.0,0.0,0.0,...|\n",
            "| 34|      admin.| married| tertiary|     no|    899|    yes|  no|       1|  170|       3| failure|    yes|     2.0|(10,[2],[1.0])|         0.0|(2,[0],[1.0])|           1.0|(2,[1],[1.0])|         0.0|(1,[0],[1.0])|         1.0|    (1,[],[])|      0.0|(1,[0],[1.0])|          0.0|(1,[0],[1.0])|  0.0|(23,[2,10,13,14,1...|[0.0,0.0,1.0,0.0,...|\n",
            "| 53|     retired| married| tertiary|     no|   2269|     no|  no|       2|  150|       1| success|    yes|     4.0|(10,[4],[1.0])|         0.0|(2,[0],[1.0])|           1.0|(2,[1],[1.0])|         0.0|(1,[0],[1.0])|         0.0|(1,[0],[1.0])|      0.0|(1,[0],[1.0])|          1.0|    (1,[],[])|  0.0|(23,[4,10,13,14,1...|[0.0,0.0,0.0,0.0,...|\n",
            "| 37|  technician| married|secondary|     no|   5115|    yes|  no|       2|  171|       4| failure|    yes|     1.0|(10,[1],[1.0])|         0.0|(2,[0],[1.0])|           0.0|(2,[0],[1.0])|         0.0|(1,[0],[1.0])|         1.0|    (1,[],[])|      0.0|(1,[0],[1.0])|          0.0|(1,[0],[1.0])|  0.0|(23,[1,10,12,14,1...|[0.0,1.0,0.0,0.0,...|\n",
            "| 45|entrepreneur| married|secondary|     no|    781|     no| yes|       2|  126|       2| failure|    yes|     9.0|(10,[9],[1.0])|         0.0|(2,[0],[1.0])|           0.0|(2,[0],[1.0])|         0.0|(1,[0],[1.0])|         0.0|(1,[0],[1.0])|      1.0|    (1,[],[])|          0.0|(1,[0],[1.0])|  0.0|(23,[9,10,12,14,1...|[0.0,0.0,0.0,0.0,...|\n",
            "| 46|  unemployed|divorced|secondary|     no|   3354|    yes|  no|       1|  174|       1| success|    yes|     7.0|(10,[7],[1.0])|         2.0|    (2,[],[])|           0.0|(2,[0],[1.0])|         0.0|(1,[0],[1.0])|         1.0|    (1,[],[])|      0.0|(1,[0],[1.0])|          1.0|    (1,[],[])|  0.0|(23,[7,12,14,16,1...|[0.0,0.0,0.0,0.0,...|\n",
            "| 40|  management| married| tertiary|     no|   3352|    yes|  no|       2|   27|       1| success|    yes|     0.0|(10,[0],[1.0])|         0.0|(2,[0],[1.0])|           1.0|(2,[1],[1.0])|         0.0|(1,[0],[1.0])|         1.0|    (1,[],[])|      0.0|(1,[0],[1.0])|          1.0|    (1,[],[])|  0.0|(23,[0,10,13,14,1...|[1.0,0.0,0.0,0.0,...|\n",
            "| 32|  technician| married| tertiary|     no|   4654|    yes| yes|       1|  128|       2| failure|    yes|     1.0|(10,[1],[1.0])|         0.0|(2,[0],[1.0])|           1.0|(2,[1],[1.0])|         0.0|(1,[0],[1.0])|         1.0|    (1,[],[])|      1.0|    (1,[],[])|          0.0|(1,[0],[1.0])|  0.0|(23,[1,10,13,14,1...|[0.0,1.0,0.0,0.0,...|\n",
            "| 30| blue-collar| married|secondary|     no|    501|    yes| yes|       1|  177|       1| failure|    yes|     3.0|(10,[3],[1.0])|         0.0|(2,[0],[1.0])|           0.0|(2,[0],[1.0])|         0.0|(1,[0],[1.0])|         1.0|    (1,[],[])|      1.0|    (1,[],[])|          0.0|(1,[0],[1.0])|  0.0|(23,[3,10,12,14,1...|[0.0,0.0,0.0,1.0,...|\n",
            "| 46|  technician| married| tertiary|     no|      0|     no|  no|       1|  167|       1| failure|    yes|     1.0|(10,[1],[1.0])|         0.0|(2,[0],[1.0])|           1.0|(2,[1],[1.0])|         0.0|(1,[0],[1.0])|         0.0|(1,[0],[1.0])|      0.0|(1,[0],[1.0])|          0.0|(1,[0],[1.0])|  0.0|(23,[1,10,13,14,1...|[0.0,1.0,0.0,0.0,...|\n",
            "| 38|entrepreneur| married| tertiary|     no|   1110|    yes|  no|       2|  183|       2| failure|    yes|     9.0|(10,[9],[1.0])|         0.0|(2,[0],[1.0])|           1.0|(2,[1],[1.0])|         0.0|(1,[0],[1.0])|         1.0|    (1,[],[])|      0.0|(1,[0],[1.0])|          0.0|(1,[0],[1.0])|  0.0|(23,[9,10,13,14,1...|[0.0,0.0,0.0,0.0,...|\n",
            "| 32|    services| married|secondary|     no|    983|    yes|  no|       2|  133|       1| failure|    yes|     5.0|(10,[5],[1.0])|         0.0|(2,[0],[1.0])|           0.0|(2,[0],[1.0])|         0.0|(1,[0],[1.0])|         1.0|    (1,[],[])|      0.0|(1,[0],[1.0])|          0.0|(1,[0],[1.0])|  0.0|(23,[5,10,12,14,1...|[0.0,0.0,0.0,0.0,...|\n",
            "| 31|  unemployed| married|secondary|     no|    314|    yes|  no|       3|  178|       7| failure|    yes|     7.0|(10,[7],[1.0])|         0.0|(2,[0],[1.0])|           0.0|(2,[0],[1.0])|         0.0|(1,[0],[1.0])|         1.0|    (1,[],[])|      0.0|(1,[0],[1.0])|          0.0|(1,[0],[1.0])|  0.0|(23,[7,10,12,14,1...|[0.0,0.0,0.0,0.0,...|\n",
            "| 50| blue-collar| married|  primary|     no|  12519|    yes|  no|       3|   34|       1| failure|    yes|     3.0|(10,[3],[1.0])|         0.0|(2,[0],[1.0])|           2.0|    (2,[],[])|         0.0|(1,[0],[1.0])|         1.0|    (1,[],[])|      0.0|(1,[0],[1.0])|          0.0|(1,[0],[1.0])|  0.0|(23,[3,10,14,16,1...|[0.0,0.0,0.0,1.0,...|\n",
            "| 47|  technician| married|secondary|     no|      0|     no|  no|       1|   10|       1| failure|    yes|     1.0|(10,[1],[1.0])|         0.0|(2,[0],[1.0])|           0.0|(2,[0],[1.0])|         0.0|(1,[0],[1.0])|         0.0|(1,[0],[1.0])|      0.0|(1,[0],[1.0])|          0.0|(1,[0],[1.0])|  0.0|(23,[1,10,12,14,1...|[0.0,1.0,0.0,0.0,...|\n",
            "| 59|  management| married| tertiary|     no|   7049|     no|  no|       1|  163|       2| failure|    yes|     0.0|(10,[0],[1.0])|         0.0|(2,[0],[1.0])|           1.0|(2,[1],[1.0])|         0.0|(1,[0],[1.0])|         0.0|(1,[0],[1.0])|      0.0|(1,[0],[1.0])|          0.0|(1,[0],[1.0])|  0.0|(23,[0,10,13,14,1...|[1.0,0.0,0.0,0.0,...|\n",
            "| 31|  management| married|secondary|     no|   8629|    yes|  no|       1|  184|       2| failure|    yes|     0.0|(10,[0],[1.0])|         0.0|(2,[0],[1.0])|           0.0|(2,[0],[1.0])|         0.0|(1,[0],[1.0])|         1.0|    (1,[],[])|      0.0|(1,[0],[1.0])|          0.0|(1,[0],[1.0])|  0.0|(23,[0,10,12,14,1...|[1.0,0.0,0.0,0.0,...|\n",
            "| 53| blue-collar| married|secondary|     no|   1777|    yes|  no|       5|  154|       1| failure|    yes|     3.0|(10,[3],[1.0])|         0.0|(2,[0],[1.0])|           0.0|(2,[0],[1.0])|         0.0|(1,[0],[1.0])|         1.0|    (1,[],[])|      0.0|(1,[0],[1.0])|          0.0|(1,[0],[1.0])|  0.0|(23,[3,10,12,14,1...|[0.0,0.0,0.0,1.0,...|\n",
            "| 40|  technician|  single| tertiary|     no|   1646|    yes|  no|       1|  242|       2| failure|    yes|     1.0|(10,[1],[1.0])|         1.0|(2,[1],[1.0])|           1.0|(2,[1],[1.0])|         0.0|(1,[0],[1.0])|         1.0|    (1,[],[])|      0.0|(1,[0],[1.0])|          0.0|(1,[0],[1.0])|  0.0|(23,[1,11,13,14,1...|[0.0,1.0,0.0,0.0,...|\n",
            "+---+------------+--------+---------+-------+-------+-------+----+--------+-----+--------+--------+-------+--------+--------------+------------+-------------+--------------+-------------+------------+-------------+------------+-------------+---------+-------------+-------------+-------------+-----+--------------------+--------------------+\n",
            "only showing top 20 rows\n",
            "\n"
          ],
          "name": "stdout"
        }
      ]
    },
    {
      "cell_type": "code",
      "metadata": {
        "id": "zZ-82-nPIUZ0",
        "colab": {
          "base_uri": "https://localhost:8080/",
          "height": 961
        },
        "outputId": "ab8fe4b1-7ffc-4a8f-ad0a-cd5bd6eb5e6c"
      },
      "source": [
        "df3.select('label','features').show()\n",
        "df3.show()"
      ],
      "execution_count": null,
      "outputs": [
        {
          "output_type": "stream",
          "text": [
            "+-----+--------------------+\n",
            "|label|            features|\n",
            "+-----+--------------------+\n",
            "|  0.0|[0.0,0.0,0.0,0.0,...|\n",
            "|  0.0|[0.0,1.0,0.0,0.0,...|\n",
            "|  0.0|[0.0,0.0,1.0,0.0,...|\n",
            "|  0.0|[0.0,0.0,0.0,0.0,...|\n",
            "|  0.0|[0.0,1.0,0.0,0.0,...|\n",
            "|  0.0|[0.0,0.0,0.0,0.0,...|\n",
            "|  0.0|[0.0,0.0,0.0,0.0,...|\n",
            "|  0.0|[1.0,0.0,0.0,0.0,...|\n",
            "|  0.0|[0.0,1.0,0.0,0.0,...|\n",
            "|  0.0|[0.0,0.0,0.0,1.0,...|\n",
            "|  0.0|[0.0,1.0,0.0,0.0,...|\n",
            "|  0.0|[0.0,0.0,0.0,0.0,...|\n",
            "|  0.0|[0.0,0.0,0.0,0.0,...|\n",
            "|  0.0|[0.0,0.0,0.0,0.0,...|\n",
            "|  0.0|[0.0,0.0,0.0,1.0,...|\n",
            "|  0.0|[0.0,1.0,0.0,0.0,...|\n",
            "|  0.0|[1.0,0.0,0.0,0.0,...|\n",
            "|  0.0|[1.0,0.0,0.0,0.0,...|\n",
            "|  0.0|[0.0,0.0,0.0,1.0,...|\n",
            "|  0.0|[0.0,1.0,0.0,0.0,...|\n",
            "+-----+--------------------+\n",
            "only showing top 20 rows\n",
            "\n",
            "+---+------------+--------+---------+-------+-------+-------+----+--------+-----+--------+--------+-------+--------+--------------+------------+-------------+--------------+-------------+------------+-------------+------------+-------------+---------+-------------+-------------+-------------+-----+--------------------+--------------------+\n",
            "|age|         job| marital|education|default|balance|housing|loan|campaign|pdays|previous|poutcome|deposit|jobIndex|        jobVec|maritalIndex|   maritalVec|educationIndex| educationVec|defaultIndex|   defaultVec|housingIndex|   housingVec|loanIndex|      loanVec|poutcomeIndex|  poutcomeVec|label|      Scaledfeatures|            features|\n",
            "+---+------------+--------+---------+-------+-------+-------+----+--------+-----+--------+--------+-------+--------+--------------+------------+-------------+--------------+-------------+------------+-------------+------------+-------------+---------+-------------+-------------+-------------+-----+--------------------+--------------------+\n",
            "| 33|    services| married|secondary|     no|   3444|    yes|  no|       1|   91|       4| failure|    yes|     5.0|(10,[5],[1.0])|         0.0|(2,[0],[1.0])|           0.0|(2,[0],[1.0])|         0.0|(1,[0],[1.0])|         1.0|    (1,[],[])|      0.0|(1,[0],[1.0])|          0.0|(1,[0],[1.0])|  0.0|(23,[5,10,12,14,1...|[0.0,0.0,0.0,0.0,...|\n",
            "| 56|  technician| married|secondary|     no|    589|    yes|  no|       1|  147|       2| success|    yes|     1.0|(10,[1],[1.0])|         0.0|(2,[0],[1.0])|           0.0|(2,[0],[1.0])|         0.0|(1,[0],[1.0])|         1.0|    (1,[],[])|      0.0|(1,[0],[1.0])|          1.0|    (1,[],[])|  0.0|(23,[1,10,12,14,1...|[0.0,1.0,0.0,0.0,...|\n",
            "| 34|      admin.| married| tertiary|     no|    899|    yes|  no|       1|  170|       3| failure|    yes|     2.0|(10,[2],[1.0])|         0.0|(2,[0],[1.0])|           1.0|(2,[1],[1.0])|         0.0|(1,[0],[1.0])|         1.0|    (1,[],[])|      0.0|(1,[0],[1.0])|          0.0|(1,[0],[1.0])|  0.0|(23,[2,10,13,14,1...|[0.0,0.0,1.0,0.0,...|\n",
            "| 53|     retired| married| tertiary|     no|   2269|     no|  no|       2|  150|       1| success|    yes|     4.0|(10,[4],[1.0])|         0.0|(2,[0],[1.0])|           1.0|(2,[1],[1.0])|         0.0|(1,[0],[1.0])|         0.0|(1,[0],[1.0])|      0.0|(1,[0],[1.0])|          1.0|    (1,[],[])|  0.0|(23,[4,10,13,14,1...|[0.0,0.0,0.0,0.0,...|\n",
            "| 37|  technician| married|secondary|     no|   5115|    yes|  no|       2|  171|       4| failure|    yes|     1.0|(10,[1],[1.0])|         0.0|(2,[0],[1.0])|           0.0|(2,[0],[1.0])|         0.0|(1,[0],[1.0])|         1.0|    (1,[],[])|      0.0|(1,[0],[1.0])|          0.0|(1,[0],[1.0])|  0.0|(23,[1,10,12,14,1...|[0.0,1.0,0.0,0.0,...|\n",
            "| 45|entrepreneur| married|secondary|     no|    781|     no| yes|       2|  126|       2| failure|    yes|     9.0|(10,[9],[1.0])|         0.0|(2,[0],[1.0])|           0.0|(2,[0],[1.0])|         0.0|(1,[0],[1.0])|         0.0|(1,[0],[1.0])|      1.0|    (1,[],[])|          0.0|(1,[0],[1.0])|  0.0|(23,[9,10,12,14,1...|[0.0,0.0,0.0,0.0,...|\n",
            "| 46|  unemployed|divorced|secondary|     no|   3354|    yes|  no|       1|  174|       1| success|    yes|     7.0|(10,[7],[1.0])|         2.0|    (2,[],[])|           0.0|(2,[0],[1.0])|         0.0|(1,[0],[1.0])|         1.0|    (1,[],[])|      0.0|(1,[0],[1.0])|          1.0|    (1,[],[])|  0.0|(23,[7,12,14,16,1...|[0.0,0.0,0.0,0.0,...|\n",
            "| 40|  management| married| tertiary|     no|   3352|    yes|  no|       2|   27|       1| success|    yes|     0.0|(10,[0],[1.0])|         0.0|(2,[0],[1.0])|           1.0|(2,[1],[1.0])|         0.0|(1,[0],[1.0])|         1.0|    (1,[],[])|      0.0|(1,[0],[1.0])|          1.0|    (1,[],[])|  0.0|(23,[0,10,13,14,1...|[1.0,0.0,0.0,0.0,...|\n",
            "| 32|  technician| married| tertiary|     no|   4654|    yes| yes|       1|  128|       2| failure|    yes|     1.0|(10,[1],[1.0])|         0.0|(2,[0],[1.0])|           1.0|(2,[1],[1.0])|         0.0|(1,[0],[1.0])|         1.0|    (1,[],[])|      1.0|    (1,[],[])|          0.0|(1,[0],[1.0])|  0.0|(23,[1,10,13,14,1...|[0.0,1.0,0.0,0.0,...|\n",
            "| 30| blue-collar| married|secondary|     no|    501|    yes| yes|       1|  177|       1| failure|    yes|     3.0|(10,[3],[1.0])|         0.0|(2,[0],[1.0])|           0.0|(2,[0],[1.0])|         0.0|(1,[0],[1.0])|         1.0|    (1,[],[])|      1.0|    (1,[],[])|          0.0|(1,[0],[1.0])|  0.0|(23,[3,10,12,14,1...|[0.0,0.0,0.0,1.0,...|\n",
            "| 46|  technician| married| tertiary|     no|      0|     no|  no|       1|  167|       1| failure|    yes|     1.0|(10,[1],[1.0])|         0.0|(2,[0],[1.0])|           1.0|(2,[1],[1.0])|         0.0|(1,[0],[1.0])|         0.0|(1,[0],[1.0])|      0.0|(1,[0],[1.0])|          0.0|(1,[0],[1.0])|  0.0|(23,[1,10,13,14,1...|[0.0,1.0,0.0,0.0,...|\n",
            "| 38|entrepreneur| married| tertiary|     no|   1110|    yes|  no|       2|  183|       2| failure|    yes|     9.0|(10,[9],[1.0])|         0.0|(2,[0],[1.0])|           1.0|(2,[1],[1.0])|         0.0|(1,[0],[1.0])|         1.0|    (1,[],[])|      0.0|(1,[0],[1.0])|          0.0|(1,[0],[1.0])|  0.0|(23,[9,10,13,14,1...|[0.0,0.0,0.0,0.0,...|\n",
            "| 32|    services| married|secondary|     no|    983|    yes|  no|       2|  133|       1| failure|    yes|     5.0|(10,[5],[1.0])|         0.0|(2,[0],[1.0])|           0.0|(2,[0],[1.0])|         0.0|(1,[0],[1.0])|         1.0|    (1,[],[])|      0.0|(1,[0],[1.0])|          0.0|(1,[0],[1.0])|  0.0|(23,[5,10,12,14,1...|[0.0,0.0,0.0,0.0,...|\n",
            "| 31|  unemployed| married|secondary|     no|    314|    yes|  no|       3|  178|       7| failure|    yes|     7.0|(10,[7],[1.0])|         0.0|(2,[0],[1.0])|           0.0|(2,[0],[1.0])|         0.0|(1,[0],[1.0])|         1.0|    (1,[],[])|      0.0|(1,[0],[1.0])|          0.0|(1,[0],[1.0])|  0.0|(23,[7,10,12,14,1...|[0.0,0.0,0.0,0.0,...|\n",
            "| 50| blue-collar| married|  primary|     no|  12519|    yes|  no|       3|   34|       1| failure|    yes|     3.0|(10,[3],[1.0])|         0.0|(2,[0],[1.0])|           2.0|    (2,[],[])|         0.0|(1,[0],[1.0])|         1.0|    (1,[],[])|      0.0|(1,[0],[1.0])|          0.0|(1,[0],[1.0])|  0.0|(23,[3,10,14,16,1...|[0.0,0.0,0.0,1.0,...|\n",
            "| 47|  technician| married|secondary|     no|      0|     no|  no|       1|   10|       1| failure|    yes|     1.0|(10,[1],[1.0])|         0.0|(2,[0],[1.0])|           0.0|(2,[0],[1.0])|         0.0|(1,[0],[1.0])|         0.0|(1,[0],[1.0])|      0.0|(1,[0],[1.0])|          0.0|(1,[0],[1.0])|  0.0|(23,[1,10,12,14,1...|[0.0,1.0,0.0,0.0,...|\n",
            "| 59|  management| married| tertiary|     no|   7049|     no|  no|       1|  163|       2| failure|    yes|     0.0|(10,[0],[1.0])|         0.0|(2,[0],[1.0])|           1.0|(2,[1],[1.0])|         0.0|(1,[0],[1.0])|         0.0|(1,[0],[1.0])|      0.0|(1,[0],[1.0])|          0.0|(1,[0],[1.0])|  0.0|(23,[0,10,13,14,1...|[1.0,0.0,0.0,0.0,...|\n",
            "| 31|  management| married|secondary|     no|   8629|    yes|  no|       1|  184|       2| failure|    yes|     0.0|(10,[0],[1.0])|         0.0|(2,[0],[1.0])|           0.0|(2,[0],[1.0])|         0.0|(1,[0],[1.0])|         1.0|    (1,[],[])|      0.0|(1,[0],[1.0])|          0.0|(1,[0],[1.0])|  0.0|(23,[0,10,12,14,1...|[1.0,0.0,0.0,0.0,...|\n",
            "| 53| blue-collar| married|secondary|     no|   1777|    yes|  no|       5|  154|       1| failure|    yes|     3.0|(10,[3],[1.0])|         0.0|(2,[0],[1.0])|           0.0|(2,[0],[1.0])|         0.0|(1,[0],[1.0])|         1.0|    (1,[],[])|      0.0|(1,[0],[1.0])|          0.0|(1,[0],[1.0])|  0.0|(23,[3,10,12,14,1...|[0.0,0.0,0.0,1.0,...|\n",
            "| 40|  technician|  single| tertiary|     no|   1646|    yes|  no|       1|  242|       2| failure|    yes|     1.0|(10,[1],[1.0])|         1.0|(2,[1],[1.0])|           1.0|(2,[1],[1.0])|         0.0|(1,[0],[1.0])|         1.0|    (1,[],[])|      0.0|(1,[0],[1.0])|          0.0|(1,[0],[1.0])|  0.0|(23,[1,11,13,14,1...|[0.0,1.0,0.0,0.0,...|\n",
            "+---+------------+--------+---------+-------+-------+-------+----+--------+-----+--------+--------+-------+--------+--------------+------------+-------------+--------------+-------------+------------+-------------+------------+-------------+---------+-------------+-------------+-------------+-----+--------------------+--------------------+\n",
            "only showing top 20 rows\n",
            "\n"
          ],
          "name": "stdout"
        }
      ]
    },
    {
      "cell_type": "markdown",
      "metadata": {
        "id": "9trUY7ZgCzhW"
      },
      "source": [
        "# 4.Unsupervised learning"
      ]
    },
    {
      "cell_type": "markdown",
      "metadata": {
        "id": "KTQfUch2Cmmi"
      },
      "source": [
        "## 4.1 K-means"
      ]
    },
    {
      "cell_type": "code",
      "metadata": {
        "id": "dGGZI70Ohqgg"
      },
      "source": [
        "# Perform unsupervised learning on df2 with k-means \n",
        "# You can use whole df2 as both training and testing data, \n",
        "# Evaluate the clustering result using Accuracy.  \n",
        "from pyspark.ml.clustering import KMeans\n",
        "from pyspark.ml.evaluation import ClusteringEvaluator\n",
        "from pyspark.ml.evaluation import MulticlassClassificationEvaluator\n",
        "from pyspark.ml.evaluation import BinaryClassificationEvaluator "
      ],
      "execution_count": null,
      "outputs": []
    },
    {
      "cell_type": "code",
      "metadata": {
        "id": "aP0tfSVcQ0nX",
        "colab": {
          "base_uri": "https://localhost:8080/",
          "height": 712
        },
        "outputId": "0f992aff-97ef-4a92-989c-bd92e441689a"
      },
      "source": [
        "#Performing KMeans on the df2 with k=2 for getting two clusters\n",
        "kmeans=KMeans(k=2,seed=1)\n",
        "#providing df3 values to kmeans\n",
        "responseModel=kmeans.fit(df3)\n",
        "prediction=responseModel.transform(df3)\n",
        "evaluator=ClusteringEvaluator() \n",
        "result= evaluator.evaluate(prediction)\n",
        "#Displaying the predictions formed by KMeans\n",
        "prediction.show()\n",
        "#Displaying the Accuracy score\n",
        "print(\"silohoute distance is \\n\" +str(result))\n",
        "\n",
        "centers= responseModel.clusterCenters()\n",
        "\n",
        "for center in centers:\n",
        "  print(\"center:\\n\",center)"
      ],
      "execution_count": null,
      "outputs": [
        {
          "output_type": "stream",
          "text": [
            "+---+------------+--------+---------+-------+-------+-------+----+--------+-----+--------+--------+-------+--------+--------------+------------+-------------+--------------+-------------+------------+-------------+------------+-------------+---------+-------------+-------------+-------------+-----+--------------------+--------------------+----------+\n",
            "|age|         job| marital|education|default|balance|housing|loan|campaign|pdays|previous|poutcome|deposit|jobIndex|        jobVec|maritalIndex|   maritalVec|educationIndex| educationVec|defaultIndex|   defaultVec|housingIndex|   housingVec|loanIndex|      loanVec|poutcomeIndex|  poutcomeVec|label|      Scaledfeatures|            features|prediction|\n",
            "+---+------------+--------+---------+-------+-------+-------+----+--------+-----+--------+--------+-------+--------+--------------+------------+-------------+--------------+-------------+------------+-------------+------------+-------------+---------+-------------+-------------+-------------+-----+--------------------+--------------------+----------+\n",
            "| 33|    services| married|secondary|     no|   3444|    yes|  no|       1|   91|       4| failure|    yes|     5.0|(10,[5],[1.0])|         0.0|(2,[0],[1.0])|           0.0|(2,[0],[1.0])|         0.0|(1,[0],[1.0])|         1.0|    (1,[],[])|      0.0|(1,[0],[1.0])|          0.0|(1,[0],[1.0])|  0.0|(23,[5,10,12,14,1...|[0.0,0.0,0.0,0.0,...|         1|\n",
            "| 56|  technician| married|secondary|     no|    589|    yes|  no|       1|  147|       2| success|    yes|     1.0|(10,[1],[1.0])|         0.0|(2,[0],[1.0])|           0.0|(2,[0],[1.0])|         0.0|(1,[0],[1.0])|         1.0|    (1,[],[])|      0.0|(1,[0],[1.0])|          1.0|    (1,[],[])|  0.0|(23,[1,10,12,14,1...|[0.0,1.0,0.0,0.0,...|         1|\n",
            "| 34|      admin.| married| tertiary|     no|    899|    yes|  no|       1|  170|       3| failure|    yes|     2.0|(10,[2],[1.0])|         0.0|(2,[0],[1.0])|           1.0|(2,[1],[1.0])|         0.0|(1,[0],[1.0])|         1.0|    (1,[],[])|      0.0|(1,[0],[1.0])|          0.0|(1,[0],[1.0])|  0.0|(23,[2,10,13,14,1...|[0.0,0.0,1.0,0.0,...|         0|\n",
            "| 53|     retired| married| tertiary|     no|   2269|     no|  no|       2|  150|       1| success|    yes|     4.0|(10,[4],[1.0])|         0.0|(2,[0],[1.0])|           1.0|(2,[1],[1.0])|         0.0|(1,[0],[1.0])|         0.0|(1,[0],[1.0])|      0.0|(1,[0],[1.0])|          1.0|    (1,[],[])|  0.0|(23,[4,10,13,14,1...|[0.0,0.0,0.0,0.0,...|         0|\n",
            "| 37|  technician| married|secondary|     no|   5115|    yes|  no|       2|  171|       4| failure|    yes|     1.0|(10,[1],[1.0])|         0.0|(2,[0],[1.0])|           0.0|(2,[0],[1.0])|         0.0|(1,[0],[1.0])|         1.0|    (1,[],[])|      0.0|(1,[0],[1.0])|          0.0|(1,[0],[1.0])|  0.0|(23,[1,10,12,14,1...|[0.0,1.0,0.0,0.0,...|         1|\n",
            "| 45|entrepreneur| married|secondary|     no|    781|     no| yes|       2|  126|       2| failure|    yes|     9.0|(10,[9],[1.0])|         0.0|(2,[0],[1.0])|           0.0|(2,[0],[1.0])|         0.0|(1,[0],[1.0])|         0.0|(1,[0],[1.0])|      1.0|    (1,[],[])|          0.0|(1,[0],[1.0])|  0.0|(23,[9,10,12,14,1...|[0.0,0.0,0.0,0.0,...|         1|\n",
            "| 46|  unemployed|divorced|secondary|     no|   3354|    yes|  no|       1|  174|       1| success|    yes|     7.0|(10,[7],[1.0])|         2.0|    (2,[],[])|           0.0|(2,[0],[1.0])|         0.0|(1,[0],[1.0])|         1.0|    (1,[],[])|      0.0|(1,[0],[1.0])|          1.0|    (1,[],[])|  0.0|(23,[7,12,14,16,1...|[0.0,0.0,0.0,0.0,...|         1|\n",
            "| 40|  management| married| tertiary|     no|   3352|    yes|  no|       2|   27|       1| success|    yes|     0.0|(10,[0],[1.0])|         0.0|(2,[0],[1.0])|           1.0|(2,[1],[1.0])|         0.0|(1,[0],[1.0])|         1.0|    (1,[],[])|      0.0|(1,[0],[1.0])|          1.0|    (1,[],[])|  0.0|(23,[0,10,13,14,1...|[1.0,0.0,0.0,0.0,...|         0|\n",
            "| 32|  technician| married| tertiary|     no|   4654|    yes| yes|       1|  128|       2| failure|    yes|     1.0|(10,[1],[1.0])|         0.0|(2,[0],[1.0])|           1.0|(2,[1],[1.0])|         0.0|(1,[0],[1.0])|         1.0|    (1,[],[])|      1.0|    (1,[],[])|          0.0|(1,[0],[1.0])|  0.0|(23,[1,10,13,14,1...|[0.0,1.0,0.0,0.0,...|         0|\n",
            "| 30| blue-collar| married|secondary|     no|    501|    yes| yes|       1|  177|       1| failure|    yes|     3.0|(10,[3],[1.0])|         0.0|(2,[0],[1.0])|           0.0|(2,[0],[1.0])|         0.0|(1,[0],[1.0])|         1.0|    (1,[],[])|      1.0|    (1,[],[])|          0.0|(1,[0],[1.0])|  0.0|(23,[3,10,12,14,1...|[0.0,0.0,0.0,1.0,...|         1|\n",
            "| 46|  technician| married| tertiary|     no|      0|     no|  no|       1|  167|       1| failure|    yes|     1.0|(10,[1],[1.0])|         0.0|(2,[0],[1.0])|           1.0|(2,[1],[1.0])|         0.0|(1,[0],[1.0])|         0.0|(1,[0],[1.0])|      0.0|(1,[0],[1.0])|          0.0|(1,[0],[1.0])|  0.0|(23,[1,10,13,14,1...|[0.0,1.0,0.0,0.0,...|         0|\n",
            "| 38|entrepreneur| married| tertiary|     no|   1110|    yes|  no|       2|  183|       2| failure|    yes|     9.0|(10,[9],[1.0])|         0.0|(2,[0],[1.0])|           1.0|(2,[1],[1.0])|         0.0|(1,[0],[1.0])|         1.0|    (1,[],[])|      0.0|(1,[0],[1.0])|          0.0|(1,[0],[1.0])|  0.0|(23,[9,10,13,14,1...|[0.0,0.0,0.0,0.0,...|         0|\n",
            "| 32|    services| married|secondary|     no|    983|    yes|  no|       2|  133|       1| failure|    yes|     5.0|(10,[5],[1.0])|         0.0|(2,[0],[1.0])|           0.0|(2,[0],[1.0])|         0.0|(1,[0],[1.0])|         1.0|    (1,[],[])|      0.0|(1,[0],[1.0])|          0.0|(1,[0],[1.0])|  0.0|(23,[5,10,12,14,1...|[0.0,0.0,0.0,0.0,...|         1|\n",
            "| 31|  unemployed| married|secondary|     no|    314|    yes|  no|       3|  178|       7| failure|    yes|     7.0|(10,[7],[1.0])|         0.0|(2,[0],[1.0])|           0.0|(2,[0],[1.0])|         0.0|(1,[0],[1.0])|         1.0|    (1,[],[])|      0.0|(1,[0],[1.0])|          0.0|(1,[0],[1.0])|  0.0|(23,[7,10,12,14,1...|[0.0,0.0,0.0,0.0,...|         1|\n",
            "| 50| blue-collar| married|  primary|     no|  12519|    yes|  no|       3|   34|       1| failure|    yes|     3.0|(10,[3],[1.0])|         0.0|(2,[0],[1.0])|           2.0|    (2,[],[])|         0.0|(1,[0],[1.0])|         1.0|    (1,[],[])|      0.0|(1,[0],[1.0])|          0.0|(1,[0],[1.0])|  0.0|(23,[3,10,14,16,1...|[0.0,0.0,0.0,1.0,...|         1|\n",
            "| 47|  technician| married|secondary|     no|      0|     no|  no|       1|   10|       1| failure|    yes|     1.0|(10,[1],[1.0])|         0.0|(2,[0],[1.0])|           0.0|(2,[0],[1.0])|         0.0|(1,[0],[1.0])|         0.0|(1,[0],[1.0])|      0.0|(1,[0],[1.0])|          0.0|(1,[0],[1.0])|  0.0|(23,[1,10,12,14,1...|[0.0,1.0,0.0,0.0,...|         1|\n",
            "| 59|  management| married| tertiary|     no|   7049|     no|  no|       1|  163|       2| failure|    yes|     0.0|(10,[0],[1.0])|         0.0|(2,[0],[1.0])|           1.0|(2,[1],[1.0])|         0.0|(1,[0],[1.0])|         0.0|(1,[0],[1.0])|      0.0|(1,[0],[1.0])|          0.0|(1,[0],[1.0])|  0.0|(23,[0,10,13,14,1...|[1.0,0.0,0.0,0.0,...|         0|\n",
            "| 31|  management| married|secondary|     no|   8629|    yes|  no|       1|  184|       2| failure|    yes|     0.0|(10,[0],[1.0])|         0.0|(2,[0],[1.0])|           0.0|(2,[0],[1.0])|         0.0|(1,[0],[1.0])|         1.0|    (1,[],[])|      0.0|(1,[0],[1.0])|          0.0|(1,[0],[1.0])|  0.0|(23,[0,10,12,14,1...|[1.0,0.0,0.0,0.0,...|         1|\n",
            "| 53| blue-collar| married|secondary|     no|   1777|    yes|  no|       5|  154|       1| failure|    yes|     3.0|(10,[3],[1.0])|         0.0|(2,[0],[1.0])|           0.0|(2,[0],[1.0])|         0.0|(1,[0],[1.0])|         1.0|    (1,[],[])|      0.0|(1,[0],[1.0])|          0.0|(1,[0],[1.0])|  0.0|(23,[3,10,12,14,1...|[0.0,0.0,0.0,1.0,...|         1|\n",
            "| 40|  technician|  single| tertiary|     no|   1646|    yes|  no|       1|  242|       2| failure|    yes|     1.0|(10,[1],[1.0])|         1.0|(2,[1],[1.0])|           1.0|(2,[1],[1.0])|         0.0|(1,[0],[1.0])|         1.0|    (1,[],[])|      0.0|(1,[0],[1.0])|          0.0|(1,[0],[1.0])|  0.0|(23,[1,11,13,14,1...|[0.0,1.0,0.0,0.0,...|         0|\n",
            "+---+------------+--------+---------+-------+-------+-------+----+--------+-----+--------+--------+-------+--------+--------------+------------+-------------+--------------+-------------+------------+-------------+------------+-------------+---------+-------------+-------------+-------------+-----+--------------------+--------------------+----------+\n",
            "only showing top 20 rows\n",
            "\n",
            "silohoute distance is \n",
            "0.3423867689457539\n",
            "center:\n",
            " [0.57541899 0.13184358 0.0603352  0.01340782 0.04804469 0.00782123\n",
            " 0.03575419 0.03575419 0.0603352  0.01675978 0.47486034 0.45027933\n",
            " 0.         0.97094972 0.99776536 0.62569832 0.92625698 0.48826816\n",
            " 0.31088587 0.03688247 0.07516506 0.21330303 0.03718187]\n",
            "center:\n",
            " [0.0311042  0.18351477 0.19906687 0.20139969 0.11897356 0.11508554\n",
            " 0.04821151 0.04276827 0.0155521  0.02177294 0.62908243 0.26360809\n",
            " 0.84836703 0.         0.99611198 0.49533437 0.88569207 0.57465008\n",
            " 0.36131971 0.02968395 0.07429662 0.25288935 0.03981625]\n"
          ],
          "name": "stdout"
        }
      ]
    },
    {
      "cell_type": "code",
      "metadata": {
        "id": "_9D_bA29VFll",
        "colab": {
          "base_uri": "https://localhost:8080/",
          "height": 34
        },
        "outputId": "6555be73-18e3-4977-e76c-8bfde1db589d"
      },
      "source": [
        "from pyspark.sql.types import DoubleType\n",
        "df_final= df3.join(prediction)\n",
        "#casting three prediction column as string value is expected in df final\n",
        "predict=prediction.withColumn('prediction',prediction['prediction'].cast(DoubleType()))\n",
        "evalua = MulticlassClassificationEvaluator(predictionCol=\"prediction\", labelCol=\"label\", metricName=\"accuracy\")\n",
        "evalua.evaluate(predict)"
      ],
      "execution_count": null,
      "outputs": [
        {
          "output_type": "execute_result",
          "data": {
            "text/plain": [
              "0.520861989912884"
            ]
          },
          "metadata": {
            "tags": []
          },
          "execution_count": 17
        }
      ]
    },
    {
      "cell_type": "markdown",
      "metadata": {
        "id": "FHom8o2KCt36"
      },
      "source": [
        "## 4.2 PCA"
      ]
    },
    {
      "cell_type": "code",
      "metadata": {
        "id": "wT4cx5uGTjmj",
        "colab": {
          "base_uri": "https://localhost:8080/",
          "height": 498
        },
        "outputId": "66b12eb7-5519-4c7c-fa15-69d42f384633"
      },
      "source": [
        "#Generate a scatter plot using the first two PCA components to investigate the data distribution.\n",
        "from pyspark.ml.feature import PCA\n",
        "from pyspark.ml.linalg import Vectors\n",
        "#principle component analyse the features column to get the PCA features output column\n",
        "pca= PCA(k=2, inputCol=\"features\", outputCol=\"pcaFeatures\")\n",
        "responseModel=pca.fit(df3)\n",
        "pcaResult = responseModel.transform(df3).select(\"deposit\", \"features\", \"pcaFeatures\")\n",
        "pcaResult.show(truncate=False)"
      ],
      "execution_count": null,
      "outputs": [
        {
          "output_type": "stream",
          "text": [
            "+-------+-------------------------------------------------------------------------------------------------------------------------------------------------------------------------------+-----------------------------------------+\n",
            "|deposit|features                                                                                                                                                                       |pcaFeatures                              |\n",
            "+-------+-------------------------------------------------------------------------------------------------------------------------------------------------------------------------------+-----------------------------------------+\n",
            "|yes    |[0.0,0.0,0.0,0.0,0.0,1.0,0.0,0.0,0.0,0.0,1.0,0.0,1.0,0.0,1.0,0.0,1.0,1.0,0.21428571428571427,0.05334664361715079,0.0,0.10550996483001172,0.05555555555555555]                  |[0.9636424850516068,0.3313811478935345]  |\n",
            "|yes    |[0.0,1.0,0.0,0.0,0.0,0.0,0.0,0.0,0.0,0.0,1.0,0.0,1.0,0.0,1.0,0.0,1.0,0.0,0.5428571428571428,0.018589759197487277,0.0,0.17116060961313012,0.018518518518518517]                 |[0.8373410183626885,0.3880024159205323]  |\n",
            "|yes    |[0.0,0.0,1.0,0.0,0.0,0.0,0.0,0.0,0.0,0.0,1.0,0.0,0.0,1.0,1.0,0.0,1.0,1.0,0.22857142857142856,0.02236371162133866,0.0,0.1981242672919109,0.037037037037037035]                  |[-0.10845002652578276,0.6564023408615134]|\n",
            "|yes    |[0.0,0.0,0.0,0.0,1.0,0.0,0.0,0.0,0.0,0.0,1.0,0.0,0.0,1.0,1.0,1.0,1.0,0.0,0.5,0.03904214652674637,0.09090909090909091,0.1746776084407972,0.0]                                   |[-0.479560942670008,1.1082617061107987]  |\n",
            "|yes    |[0.0,1.0,0.0,0.0,0.0,0.0,0.0,0.0,0.0,0.0,1.0,0.0,1.0,0.0,1.0,0.0,1.0,1.0,0.2714285714285714,0.07368946458571742,0.09090909090909091,0.19929660023446658,0.05555555555555555]   |[0.9576794865061756,0.2714643678687506]  |\n",
            "|yes    |[0.0,0.0,0.0,0.0,0.0,0.0,0.0,0.0,0.0,1.0,1.0,0.0,1.0,0.0,1.0,1.0,0.0,1.0,0.38571428571428573,0.020927174892259745,0.09090909090909091,0.14654161781946073,0.018518518518518517]|[0.7879027918969023,0.5145147352059565]  |\n",
            "|yes    |[0.0,0.0,0.0,0.0,0.0,0.0,0.0,1.0,0.0,0.0,0.0,0.0,1.0,0.0,1.0,0.0,1.0,0.0,0.4,0.05225098001022619,0.0,0.20281359906213364,0.0]                                                  |[0.5124304692668866,-0.1917648708243116] |\n",
            "|yes    |[1.0,0.0,0.0,0.0,0.0,0.0,0.0,0.0,0.0,0.0,1.0,0.0,0.0,1.0,1.0,0.0,1.0,0.0,0.3142857142857143,0.05222663193007231,0.09090909090909091,0.03048065650644783,0.0]                   |[-0.7369547765884317,1.0356901001261056] |\n",
            "|yes    |[0.0,1.0,0.0,0.0,0.0,0.0,0.0,0.0,0.0,0.0,1.0,0.0,0.0,1.0,1.0,0.0,0.0,1.0,0.2,0.0680772321102481,0.0,0.1488862837045721,0.018518518518518517]                                   |[-0.10282606527163515,0.671822806010155] |\n",
            "|yes    |[0.0,0.0,0.0,1.0,0.0,0.0,0.0,0.0,0.0,0.0,1.0,0.0,1.0,0.0,1.0,0.0,0.0,1.0,0.17142857142857143,0.017518443670716564,0.0,0.2063305978898007,0.0]                                  |[1.0661514594145962,0.3285042864447201]  |\n",
            "|yes    |[0.0,1.0,0.0,0.0,0.0,0.0,0.0,0.0,0.0,0.0,1.0,0.0,0.0,1.0,1.0,1.0,1.0,1.0,0.4,0.011419249592169658,0.0,0.19460726846424384,0.0]                                                 |[-0.32474294634018674,0.8134787300694735]|\n",
            "|yes    |[0.0,0.0,0.0,0.0,0.0,0.0,0.0,0.0,0.0,1.0,1.0,0.0,0.0,1.0,1.0,0.0,1.0,1.0,0.2857142857142857,0.024932434077572983,0.09090909090909091,0.21336459554513482,0.018518518518518517] |[-0.2109752165189983,0.7625432021333773] |\n",
            "|yes    |[0.0,0.0,0.0,0.0,0.0,1.0,0.0,0.0,0.0,0.0,1.0,0.0,1.0,0.0,1.0,0.0,1.0,1.0,0.2,0.02338633098780161,0.09090909090909091,0.15474794841735054,0.0]                                  |[0.9643915702012056,0.3276715407315949]  |\n",
            "|yes    |[0.0,0.0,0.0,0.0,0.0,0.0,0.0,1.0,0.0,0.0,1.0,0.0,1.0,0.0,1.0,0.0,1.0,1.0,0.18571428571428572,0.015241898176328797,0.18181818181818182,0.20750293083235638,0.1111111111111111]  |[0.8970032005901719,0.3514814197107741]  |\n",
            "|yes    |[0.0,0.0,0.0,1.0,0.0,0.0,0.0,0.0,0.0,0.0,1.0,0.0,0.0,0.0,1.0,0.0,1.0,1.0,0.45714285714285713,0.1638260573153807,0.18181818181818182,0.038686987104337635,0.0]                  |[0.47244006359864477,0.6034483574148226] |\n",
            "|yes    |[0.0,1.0,0.0,0.0,0.0,0.0,0.0,0.0,0.0,0.0,1.0,0.0,1.0,0.0,1.0,1.0,1.0,1.0,0.4142857142857143,0.011419249592169658,0.0,0.010550996483001172,0.0]                                 |[0.7840860892766188,0.421458958932977]   |\n",
            "|yes    |[1.0,0.0,0.0,0.0,0.0,0.0,0.0,0.0,0.0,0.0,1.0,0.0,0.0,1.0,1.0,1.0,1.0,1.0,0.5857142857142857,0.09723405809451925,0.0,0.1899179366940211,0.018518518518518517]                   |[-0.7640855001185652,1.117508731487764]  |\n",
            "|yes    |[1.0,0.0,0.0,0.0,0.0,0.0,0.0,0.0,0.0,0.0,1.0,0.0,1.0,0.0,1.0,0.0,1.0,1.0,0.18571428571428572,0.11646904141608434,0.0,0.21453692848769051,0.018518518518518517]                 |[0.5078194714105165,0.5364599694359978]  |\n",
            "|yes    |[0.0,0.0,0.0,1.0,0.0,0.0,0.0,0.0,0.0,0.0,1.0,0.0,1.0,0.0,1.0,0.0,1.0,1.0,0.5,0.03305251880889192,0.36363636363636365,0.17936694021101993,0.0]                                  |[1.020982108328857,0.36510796039610344]  |\n",
            "|yes    |[0.0,1.0,0.0,0.0,0.0,0.0,0.0,0.0,0.0,0.0,0.0,1.0,0.0,1.0,1.0,0.0,1.0,1.0,0.3142857142857143,0.03145771955881279,0.0,0.2825322391559203,0.018518518518518517]                   |[-0.6823665987365033,-0.5902523648089859]|\n",
            "+-------+-------------------------------------------------------------------------------------------------------------------------------------------------------------------------------+-----------------------------------------+\n",
            "only showing top 20 rows\n",
            "\n"
          ],
          "name": "stdout"
        }
      ]
    },
    {
      "cell_type": "code",
      "metadata": {
        "id": "D6IBDgXke7Yo",
        "colab": {
          "base_uri": "https://localhost:8080/",
          "height": 282
        },
        "outputId": "00c2cf42-2e89-40a2-9fd8-3347633f8ac3"
      },
      "source": [
        "import matplotlib.pyplot as plt\n",
        "pcaYes=pcaResult.select(\"pcaFeatures\").where(pcaResult.deposit == 'yes').collect()\n",
        "pcaNo=pcaResult.select('pcaFeatures').where(pcaResult.deposit=='no').collect()\n",
        "AcmpYes=[]\n",
        "AcmpNo=[]\n",
        "BcmpYes=[]\n",
        "BcmpNo=[]\n",
        "#X-axis and Y-axis have plotted using pcaFeatures\n",
        "for row in pcaYes:\n",
        "  feature_pca=row['pcaFeatures'].toArray()\n",
        "  AcmpYes.append(feature_pca[0])\n",
        "  BcmpYes.append(feature_pca[1])\n",
        "for row in pcaNo:\n",
        "  feature_pca=row['pcaFeatures'].toArray()              \n",
        "  AcmpNo.append(feature_pca[0])\n",
        "  BcmpNo.append(feature_pca[1])\n",
        "fig,axis=plt.subplots()\n",
        "axis.scatter(AcmpYes,BcmpYes,color='red')\n",
        "axis.scatter(AcmpNo,BcmpNo,color='black')\n",
        "axis.legend(['Yes','No'])\n",
        "#providing Xaxis name as PCA1 component \n",
        "axis.set_xlabel('PCA 1 component')\n",
        "#providing Yaxis name as PCA2 component \n",
        "axis.set_ylabel('PCA 2 component')\n",
        "axis.grid()"
      ],
      "execution_count": null,
      "outputs": [
        {
          "output_type": "display_data",
          "data": {
            "image/png": "[encoded data removed]",
            "text/plain": [
              "<Figure size 432x288 with 1 Axes>"
            ]
          },
          "metadata": {
            "tags": []
          }
        }
      ]
    },
    {
      "cell_type": "markdown",
      "metadata": {
        "id": "ulp_uILXCv4Z"
      },
      "source": [
        "# 5.Supervised learning"
      ]
    },
    {
      "cell_type": "code",
      "metadata": {
        "id": "0O7tszcPfnHN",
        "colab": {
          "base_uri": "https://localhost:8080/",
          "height": 52
        },
        "outputId": "d3770c42-6148-4054-9b7b-654d0eafdc30"
      },
      "source": [
        "train, test = df3.randomSplit([0.7, 0.3], seed = 742)\n",
        "print(\"Training Dataset Count: \" + str(train.count()))\n",
        "print(\"Test Dataset Count: \" + str(test.count()))"
      ],
      "execution_count": null,
      "outputs": [
        {
          "output_type": "stream",
          "text": [
            "Training Dataset Count: 1535\n",
            "Test Dataset Count: 646\n"
          ],
          "name": "stdout"
        }
      ]
    },
    {
      "cell_type": "markdown",
      "metadata": {
        "id": "2SsHdh7YC-eN"
      },
      "source": [
        "## 5.1 LogisticRegression"
      ]
    },
    {
      "cell_type": "code",
      "metadata": {
        "id": "Vqo_ywFQYxSj"
      },
      "source": [
        "# Logistic Regression\n",
        "from pyspark.ml.classification import LogisticRegression\n",
        "from pyspark.ml.evaluation import MulticlassClassificationEvaluator\n",
        "from pyspark.ml.evaluation import BinaryClassificationEvaluator \n",
        "import matplotlib.pyplot as plot\n",
        "import numpy as np"
      ],
      "execution_count": null,
      "outputs": []
    },
    {
      "cell_type": "code",
      "metadata": {
        "id": "KbiaIuDxj-If",
        "colab": {
          "base_uri": "https://localhost:8080/",
          "height": 105
        },
        "outputId": "6afc4561-6268-4370-ac52-b32d75018e19"
      },
      "source": [
        "# perform logistic regression with features combining all colums of df3 other than deposit and index\n",
        "logregression=LogisticRegression(featuresCol='features',labelCol='label',maxIter=10)\n",
        "logregrsion_Response=logregression.fit(train)\n",
        "co_Efficient=np.sort(logregrsion_Response.coefficients)\n",
        "co_Efficient\n"
      ],
      "execution_count": null,
      "outputs": [
        {
          "output_type": "execute_result",
          "data": {
            "text/plain": [
              "array([-4.06600492, -1.40069787, -1.0115945 , -0.77543111, -0.6673826 ,\n",
              "       -0.58640696, -0.56288882, -0.39774945, -0.29307701, -0.26309379,\n",
              "       -0.22315222, -0.1028091 , -0.06422556, -0.04052177, -0.02874555,\n",
              "       -0.0102023 ,  0.00961051,  0.08309589,  0.26043924,  0.32757334,\n",
              "        0.38190941,  1.90198322,  2.05048525])"
            ]
          },
          "metadata": {
            "tags": []
          },
          "execution_count": 22
        }
      ]
    },
    {
      "cell_type": "code",
      "metadata": {
        "id": "8u6HEiKzCAF0",
        "colab": {
          "base_uri": "https://localhost:8080/",
          "height": 72
        },
        "outputId": "7a892e81-e39d-451b-a535-ea9ec7d6aee2"
      },
      "source": [
        "#print the coefficients and intercept for logistic regression\n",
        "print(\"coefficients:\" + str(logregrsion_Response.coefficients))\n",
        "print(\"coefficients:\" + str(logregrsion_Response.intercept))"
      ],
      "execution_count": null,
      "outputs": [
        {
          "output_type": "stream",
          "text": [
            "coefficients:[0.08309589128005467,0.32757334062461385,0.0096105141436745,0.38190941125150324,-0.39774944792469447,-0.22315221504037752,-1.0115944989211938,-0.6673825968709629,-0.06422556314687217,-0.04052176974477358,-0.02874554906578332,-0.1028090951688996,-0.010202304164208824,-0.29307701174854,-0.26309379068036487,-0.7754311127062343,-0.5864069648855801,2.050485245963458,0.2604392385346028,-4.06600492148482,1.9019832166550692,-0.5628888207448501,-1.400697868170869]\n",
            "coefficients:-0.8480313388202999\n"
          ],
          "name": "stdout"
        }
      ]
    },
    {
      "cell_type": "code",
      "metadata": {
        "id": "hANwFUzhgG83",
        "colab": {
          "base_uri": "https://localhost:8080/",
          "height": 862
        },
        "outputId": "7164e7ff-be1b-445b-f6c9-dd4352ca64c1"
      },
      "source": [
        "#Exam the coefficients\n",
        "plot.plot(co_Efficient)\n",
        "plot.xlabel(\"Recall\")\n",
        "plot.ylabel(\"Precision\")\n",
        "plot.show()\n",
        "# taking summary of logistic regression model\n",
        "trainSummary=logregrsion_Response.summary\n",
        "# taking (ROC) dataframe contains false Positive rate and true positive rate \n",
        "roc=trainSummary.roc.toPandas()\n",
        "#ploting FPR and TPR values in x and y axis using matplotlib\n",
        "plot.plot(roc['FPR'],roc['TPR'])\n",
        "plot.xlabel('False Positive Rate')\n",
        "plot.ylabel('True Positive Rate')\n",
        "#giving title of ROC \n",
        "plot.title('ROC curves')\n",
        "plot.show()\n",
        "#display ROC value\n",
        "print(\"ROC for train Accuracy score:\"+str(trainSummary.areaUnderROC)) \n",
        "predction=logregrsion_Response.transform(test)\n",
        "predction.select('deposit','features','label','rawPrediction','prediction','probability').show(10)"
      ],
      "execution_count": null,
      "outputs": [
        {
          "output_type": "display_data",
          "data": {
            "image/png": "[encoded data removed]",
            "text/plain": [
              "<Figure size 432x288 with 1 Axes>"
            ]
          },
          "metadata": {
            "tags": []
          }
        },
        {
          "output_type": "display_data",
          "data": {
            "image/png": "[encoded data removed]",
            "text/plain": [
              "<Figure size 432x288 with 1 Axes>"
            ]
          },
          "metadata": {
            "tags": []
          }
        },
        {
          "output_type": "stream",
          "text": [
            "ROC for train Accuracy score:0.8181597573306368\n",
            "+-------+--------------------+-----+--------------------+----------+--------------------+\n",
            "|deposit|            features|label|       rawPrediction|prediction|         probability|\n",
            "+-------+--------------------+-----+--------------------+----------+--------------------+\n",
            "|    yes|[0.0,0.0,0.0,0.0,...|  0.0|[3.72460351389435...|       0.0|[0.97644553361903...|\n",
            "|     no|[0.0,0.0,0.0,0.0,...|  1.0|[1.12520322411170...|       0.0|[0.75495258510944...|\n",
            "|     no|[0.0,0.0,0.0,1.0,...|  1.0|[1.92333675311784...|       0.0|[0.87251006317541...|\n",
            "|    yes|[1.0,0.0,0.0,0.0,...|  0.0|[2.40934094080927...|       0.0|[0.91753682919934...|\n",
            "|    yes|[0.0,0.0,0.0,0.0,...|  0.0|[3.99076427786686...|       0.0|[0.98184993391015...|\n",
            "|    yes|[0.0,0.0,0.0,0.0,...|  0.0|[3.98737557385661...|       0.0|[0.98178944632280...|\n",
            "|    yes|[0.0,0.0,0.0,0.0,...|  0.0|[3.76254964287486...|       0.0|[0.97730268197705...|\n",
            "|    yes|[0.0,0.0,0.0,0.0,...|  0.0|[3.85330069955301...|       0.0|[0.97923089058649...|\n",
            "|    yes|[0.0,0.0,0.0,0.0,...|  0.0|[3.32187542958460...|       0.0|[0.96517168962295...|\n",
            "|    yes|[0.0,0.0,0.0,0.0,...|  0.0|[3.07331733078330...|       0.0|[0.95577859447676...|\n",
            "+-------+--------------------+-----+--------------------+----------+--------------------+\n",
            "only showing top 10 rows\n",
            "\n"
          ],
          "name": "stdout"
        }
      ]
    },
    {
      "cell_type": "code",
      "metadata": {
        "id": "6erotvfwLSrl",
        "colab": {
          "base_uri": "https://localhost:8080/",
          "height": 2172
        },
        "outputId": "a4f60901-c97f-4a68-befe-0fd7a771b4c9"
      },
      "source": [
        "precision=trainSummary.pr.toPandas()\n",
        "#plot the Precision and recall value in the x and y axis \n",
        "plot.plot(precision['recall'],precision['precision'])\n",
        "plot.xlabel('Recall')\n",
        "plot.ylabel('precision')\n",
        "plot.show()\n",
        "# display the precision and recall values\n",
        "precision"
      ],
      "execution_count": null,
      "outputs": [
        {
          "output_type": "display_data",
          "data": {
            "image/png": "[encoded data removed]",
            "text/plain": [
              "<Figure size 432x288 with 1 Axes>"
            ]
          },
          "metadata": {
            "tags": []
          }
        },
        {
          "output_type": "execute_result",
          "data": {
            "text/html": [
              "<div>\n",
              "<style scoped>\n",
              "    .dataframe tbody tr th:only-of-type {\n",
              "        vertical-align: middle;\n",
              "    }\n",
              "\n",
              "    .dataframe tbody tr th {\n",
              "        vertical-align: top;\n",
              "    }\n",
              "\n",
              "    .dataframe thead th {\n",
              "        text-align: right;\n",
              "    }\n",
              "</style>\n",
              "<table border=\"1\" class=\"dataframe\">\n",
              "  <thead>\n",
              "    <tr style=\"text-align: right;\">\n",
              "      <th></th>\n",
              "      <th>recall</th>\n",
              "      <th>precision</th>\n",
              "    </tr>\n",
              "  </thead>\n",
              "  <tbody>\n",
              "    <tr>\n",
              "      <th>0</th>\n",
              "      <td>0.000000</td>\n",
              "      <td>0.800000</td>\n",
              "    </tr>\n",
              "    <tr>\n",
              "      <th>1</th>\n",
              "      <td>0.026087</td>\n",
              "      <td>0.800000</td>\n",
              "    </tr>\n",
              "    <tr>\n",
              "      <th>2</th>\n",
              "      <td>0.047826</td>\n",
              "      <td>0.733333</td>\n",
              "    </tr>\n",
              "    <tr>\n",
              "      <th>3</th>\n",
              "      <td>0.069565</td>\n",
              "      <td>0.711111</td>\n",
              "    </tr>\n",
              "    <tr>\n",
              "      <th>4</th>\n",
              "      <td>0.089130</td>\n",
              "      <td>0.683333</td>\n",
              "    </tr>\n",
              "    <tr>\n",
              "      <th>5</th>\n",
              "      <td>0.115217</td>\n",
              "      <td>0.706667</td>\n",
              "    </tr>\n",
              "    <tr>\n",
              "      <th>6</th>\n",
              "      <td>0.139130</td>\n",
              "      <td>0.711111</td>\n",
              "    </tr>\n",
              "    <tr>\n",
              "      <th>7</th>\n",
              "      <td>0.167391</td>\n",
              "      <td>0.733333</td>\n",
              "    </tr>\n",
              "    <tr>\n",
              "      <th>8</th>\n",
              "      <td>0.189130</td>\n",
              "      <td>0.725000</td>\n",
              "    </tr>\n",
              "    <tr>\n",
              "      <th>9</th>\n",
              "      <td>0.215217</td>\n",
              "      <td>0.733333</td>\n",
              "    </tr>\n",
              "    <tr>\n",
              "      <th>10</th>\n",
              "      <td>0.239130</td>\n",
              "      <td>0.733333</td>\n",
              "    </tr>\n",
              "    <tr>\n",
              "      <th>11</th>\n",
              "      <td>0.258696</td>\n",
              "      <td>0.721212</td>\n",
              "    </tr>\n",
              "    <tr>\n",
              "      <th>12</th>\n",
              "      <td>0.289130</td>\n",
              "      <td>0.738889</td>\n",
              "    </tr>\n",
              "    <tr>\n",
              "      <th>13</th>\n",
              "      <td>0.306522</td>\n",
              "      <td>0.723077</td>\n",
              "    </tr>\n",
              "    <tr>\n",
              "      <th>14</th>\n",
              "      <td>0.328261</td>\n",
              "      <td>0.719048</td>\n",
              "    </tr>\n",
              "    <tr>\n",
              "      <th>15</th>\n",
              "      <td>0.345652</td>\n",
              "      <td>0.706667</td>\n",
              "    </tr>\n",
              "    <tr>\n",
              "      <th>16</th>\n",
              "      <td>0.358696</td>\n",
              "      <td>0.687500</td>\n",
              "    </tr>\n",
              "    <tr>\n",
              "      <th>17</th>\n",
              "      <td>0.380435</td>\n",
              "      <td>0.686275</td>\n",
              "    </tr>\n",
              "    <tr>\n",
              "      <th>18</th>\n",
              "      <td>0.400000</td>\n",
              "      <td>0.681481</td>\n",
              "    </tr>\n",
              "    <tr>\n",
              "      <th>19</th>\n",
              "      <td>0.417391</td>\n",
              "      <td>0.673684</td>\n",
              "    </tr>\n",
              "    <tr>\n",
              "      <th>20</th>\n",
              "      <td>0.434783</td>\n",
              "      <td>0.666667</td>\n",
              "    </tr>\n",
              "    <tr>\n",
              "      <th>21</th>\n",
              "      <td>0.454348</td>\n",
              "      <td>0.663492</td>\n",
              "    </tr>\n",
              "    <tr>\n",
              "      <th>22</th>\n",
              "      <td>0.469565</td>\n",
              "      <td>0.654545</td>\n",
              "    </tr>\n",
              "    <tr>\n",
              "      <th>23</th>\n",
              "      <td>0.486957</td>\n",
              "      <td>0.649275</td>\n",
              "    </tr>\n",
              "    <tr>\n",
              "      <th>24</th>\n",
              "      <td>0.508696</td>\n",
              "      <td>0.650000</td>\n",
              "    </tr>\n",
              "    <tr>\n",
              "      <th>25</th>\n",
              "      <td>0.519565</td>\n",
              "      <td>0.637333</td>\n",
              "    </tr>\n",
              "    <tr>\n",
              "      <th>26</th>\n",
              "      <td>0.536957</td>\n",
              "      <td>0.633333</td>\n",
              "    </tr>\n",
              "    <tr>\n",
              "      <th>27</th>\n",
              "      <td>0.560870</td>\n",
              "      <td>0.637037</td>\n",
              "    </tr>\n",
              "    <tr>\n",
              "      <th>28</th>\n",
              "      <td>0.578261</td>\n",
              "      <td>0.633333</td>\n",
              "    </tr>\n",
              "    <tr>\n",
              "      <th>29</th>\n",
              "      <td>0.595652</td>\n",
              "      <td>0.629885</td>\n",
              "    </tr>\n",
              "    <tr>\n",
              "      <th>...</th>\n",
              "      <td>...</td>\n",
              "      <td>...</td>\n",
              "    </tr>\n",
              "    <tr>\n",
              "      <th>74</th>\n",
              "      <td>0.941304</td>\n",
              "      <td>0.390090</td>\n",
              "    </tr>\n",
              "    <tr>\n",
              "      <th>75</th>\n",
              "      <td>0.941304</td>\n",
              "      <td>0.384889</td>\n",
              "    </tr>\n",
              "    <tr>\n",
              "      <th>76</th>\n",
              "      <td>0.943478</td>\n",
              "      <td>0.380702</td>\n",
              "    </tr>\n",
              "    <tr>\n",
              "      <th>77</th>\n",
              "      <td>0.945652</td>\n",
              "      <td>0.376623</td>\n",
              "    </tr>\n",
              "    <tr>\n",
              "      <th>78</th>\n",
              "      <td>0.950000</td>\n",
              "      <td>0.373504</td>\n",
              "    </tr>\n",
              "    <tr>\n",
              "      <th>79</th>\n",
              "      <td>0.954348</td>\n",
              "      <td>0.370464</td>\n",
              "    </tr>\n",
              "    <tr>\n",
              "      <th>80</th>\n",
              "      <td>0.958696</td>\n",
              "      <td>0.367500</td>\n",
              "    </tr>\n",
              "    <tr>\n",
              "      <th>81</th>\n",
              "      <td>0.963043</td>\n",
              "      <td>0.364609</td>\n",
              "    </tr>\n",
              "    <tr>\n",
              "      <th>82</th>\n",
              "      <td>0.963043</td>\n",
              "      <td>0.360163</td>\n",
              "    </tr>\n",
              "    <tr>\n",
              "      <th>83</th>\n",
              "      <td>0.963043</td>\n",
              "      <td>0.355823</td>\n",
              "    </tr>\n",
              "    <tr>\n",
              "      <th>84</th>\n",
              "      <td>0.963043</td>\n",
              "      <td>0.351587</td>\n",
              "    </tr>\n",
              "    <tr>\n",
              "      <th>85</th>\n",
              "      <td>0.965217</td>\n",
              "      <td>0.348235</td>\n",
              "    </tr>\n",
              "    <tr>\n",
              "      <th>86</th>\n",
              "      <td>0.967391</td>\n",
              "      <td>0.344961</td>\n",
              "    </tr>\n",
              "    <tr>\n",
              "      <th>87</th>\n",
              "      <td>0.971739</td>\n",
              "      <td>0.342529</td>\n",
              "    </tr>\n",
              "    <tr>\n",
              "      <th>88</th>\n",
              "      <td>0.973913</td>\n",
              "      <td>0.339394</td>\n",
              "    </tr>\n",
              "    <tr>\n",
              "      <th>89</th>\n",
              "      <td>0.973913</td>\n",
              "      <td>0.335581</td>\n",
              "    </tr>\n",
              "    <tr>\n",
              "      <th>90</th>\n",
              "      <td>0.976087</td>\n",
              "      <td>0.332593</td>\n",
              "    </tr>\n",
              "    <tr>\n",
              "      <th>91</th>\n",
              "      <td>0.980435</td>\n",
              "      <td>0.330403</td>\n",
              "    </tr>\n",
              "    <tr>\n",
              "      <th>92</th>\n",
              "      <td>0.982609</td>\n",
              "      <td>0.327536</td>\n",
              "    </tr>\n",
              "    <tr>\n",
              "      <th>93</th>\n",
              "      <td>0.982609</td>\n",
              "      <td>0.324014</td>\n",
              "    </tr>\n",
              "    <tr>\n",
              "      <th>94</th>\n",
              "      <td>0.982609</td>\n",
              "      <td>0.320567</td>\n",
              "    </tr>\n",
              "    <tr>\n",
              "      <th>95</th>\n",
              "      <td>0.982609</td>\n",
              "      <td>0.317193</td>\n",
              "    </tr>\n",
              "    <tr>\n",
              "      <th>96</th>\n",
              "      <td>0.984783</td>\n",
              "      <td>0.314583</td>\n",
              "    </tr>\n",
              "    <tr>\n",
              "      <th>97</th>\n",
              "      <td>0.984783</td>\n",
              "      <td>0.311340</td>\n",
              "    </tr>\n",
              "    <tr>\n",
              "      <th>98</th>\n",
              "      <td>0.991304</td>\n",
              "      <td>0.310204</td>\n",
              "    </tr>\n",
              "    <tr>\n",
              "      <th>99</th>\n",
              "      <td>0.993478</td>\n",
              "      <td>0.307744</td>\n",
              "    </tr>\n",
              "    <tr>\n",
              "      <th>100</th>\n",
              "      <td>0.993478</td>\n",
              "      <td>0.304667</td>\n",
              "    </tr>\n",
              "    <tr>\n",
              "      <th>101</th>\n",
              "      <td>0.997826</td>\n",
              "      <td>0.302970</td>\n",
              "    </tr>\n",
              "    <tr>\n",
              "      <th>102</th>\n",
              "      <td>1.000000</td>\n",
              "      <td>0.300654</td>\n",
              "    </tr>\n",
              "    <tr>\n",
              "      <th>103</th>\n",
              "      <td>1.000000</td>\n",
              "      <td>0.299674</td>\n",
              "    </tr>\n",
              "  </tbody>\n",
              "</table>\n",
              "<p>104 rows × 2 columns</p>\n",
              "</div>"
            ],
            "text/plain": [
              "       recall  precision\n",
              "0    0.000000   0.800000\n",
              "1    0.026087   0.800000\n",
              "2    0.047826   0.733333\n",
              "3    0.069565   0.711111\n",
              "4    0.089130   0.683333\n",
              "5    0.115217   0.706667\n",
              "6    0.139130   0.711111\n",
              "7    0.167391   0.733333\n",
              "8    0.189130   0.725000\n",
              "9    0.215217   0.733333\n",
              "10   0.239130   0.733333\n",
              "11   0.258696   0.721212\n",
              "12   0.289130   0.738889\n",
              "13   0.306522   0.723077\n",
              "14   0.328261   0.719048\n",
              "15   0.345652   0.706667\n",
              "16   0.358696   0.687500\n",
              "17   0.380435   0.686275\n",
              "18   0.400000   0.681481\n",
              "19   0.417391   0.673684\n",
              "20   0.434783   0.666667\n",
              "21   0.454348   0.663492\n",
              "22   0.469565   0.654545\n",
              "23   0.486957   0.649275\n",
              "24   0.508696   0.650000\n",
              "25   0.519565   0.637333\n",
              "26   0.536957   0.633333\n",
              "27   0.560870   0.637037\n",
              "28   0.578261   0.633333\n",
              "29   0.595652   0.629885\n",
              "..        ...        ...\n",
              "74   0.941304   0.390090\n",
              "75   0.941304   0.384889\n",
              "76   0.943478   0.380702\n",
              "77   0.945652   0.376623\n",
              "78   0.950000   0.373504\n",
              "79   0.954348   0.370464\n",
              "80   0.958696   0.367500\n",
              "81   0.963043   0.364609\n",
              "82   0.963043   0.360163\n",
              "83   0.963043   0.355823\n",
              "84   0.963043   0.351587\n",
              "85   0.965217   0.348235\n",
              "86   0.967391   0.344961\n",
              "87   0.971739   0.342529\n",
              "88   0.973913   0.339394\n",
              "89   0.973913   0.335581\n",
              "90   0.976087   0.332593\n",
              "91   0.980435   0.330403\n",
              "92   0.982609   0.327536\n",
              "93   0.982609   0.324014\n",
              "94   0.982609   0.320567\n",
              "95   0.982609   0.317193\n",
              "96   0.984783   0.314583\n",
              "97   0.984783   0.311340\n",
              "98   0.991304   0.310204\n",
              "99   0.993478   0.307744\n",
              "100  0.993478   0.304667\n",
              "101  0.997826   0.302970\n",
              "102  1.000000   0.300654\n",
              "103  1.000000   0.299674\n",
              "\n",
              "[104 rows x 2 columns]"
            ]
          },
          "metadata": {
            "tags": []
          },
          "execution_count": 25
        }
      ]
    },
    {
      "cell_type": "code",
      "metadata": {
        "id": "Zf7qWvGKMDyC",
        "colab": {
          "base_uri": "https://localhost:8080/",
          "height": 34
        },
        "outputId": "6ddfbb53-aeb1-4042-83fa-31589ec10f6b"
      },
      "source": [
        "#evaluate the binaryclassevaluator using prediction values\n",
        "evaluate=BinaryClassificationEvaluator()\n",
        "print('ROC area',evaluate.evaluate(predction))"
      ],
      "execution_count": null,
      "outputs": [
        {
          "output_type": "stream",
          "text": [
            "ROC area 0.8045717723137094\n"
          ],
          "name": "stdout"
        }
      ]
    },
    {
      "cell_type": "code",
      "metadata": {
        "id": "Jw3p58fgUq_J",
        "colab": {
          "base_uri": "https://localhost:8080/",
          "height": 34
        },
        "outputId": "255e84aa-4755-448c-a5d0-bf893f81cd5f"
      },
      "source": [
        "from pyspark.mllib.classification import LogisticRegressionWithLBFGS\n",
        "from pyspark.ml.evaluation import MulticlassClassificationEvaluator\n",
        "from pyspark.mllib.util import MLUtils\n",
        "from pyspark.mllib.evaluation import MulticlassMetrics\n",
        "Multiclass=MulticlassClassificationEvaluator(predictionCol='prediction',labelCol='label',metricName='accuracy')\n",
        "# printing the accuracy values of prediction\n",
        "print(\"Accuracy:\",Multiclass.evaluate(predction))"
      ],
      "execution_count": null,
      "outputs": [
        {
          "output_type": "stream",
          "text": [
            "Accuracy: 0.7492260061919505\n"
          ],
          "name": "stdout"
        }
      ]
    },
    {
      "cell_type": "markdown",
      "metadata": {
        "id": "evM5eiJoDHw2"
      },
      "source": [
        "## 5.2 Decision tree"
      ]
    },
    {
      "cell_type": "code",
      "metadata": {
        "id": "He4mlHb7hBoY",
        "colab": {
          "base_uri": "https://localhost:8080/",
          "height": 478
        },
        "outputId": "d2d44e06-5422-4175-a0f9-7a169b1aab1f"
      },
      "source": [
        "#Decision tree \n",
        "from pyspark.ml.classification import DecisionTreeClassifier \n",
        "#decision tree values are given using featurescol and labelcol and maxdepth\n",
        "decsiontree=DecisionTreeClassifier(featuresCol='features',labelCol='label',maxDepth=3)\n",
        "#fit the train values into the decision values\n",
        "decsiontree_Response=decsiontree.fit(train)\n",
        "predctiontree=decsiontree_Response.transform(test)\n",
        "#display the rawPrediction, age job, label, probability, prediction\n",
        "predctiontree.select('age','job','label','rawPrediction','probability','prediction').show()#Decision tree\n"
      ],
      "execution_count": null,
      "outputs": [
        {
          "output_type": "stream",
          "text": [
            "+---+-----------+-----+-------------+--------------------+----------+\n",
            "|age|        job|label|rawPrediction|         probability|prediction|\n",
            "+---+-----------+-----+-------------+--------------------+----------+\n",
            "| 18|    student|  0.0| [653.0,57.0]|[0.91971830985915...|       0.0|\n",
            "| 20|    student|  1.0| [207.0,87.0]|[0.70408163265306...|       0.0|\n",
            "| 21|blue-collar|  1.0| [653.0,57.0]|[0.91971830985915...|       0.0|\n",
            "| 22| management|  0.0| [653.0,57.0]|[0.91971830985915...|       0.0|\n",
            "| 22|    student|  0.0| [653.0,57.0]|[0.91971830985915...|       0.0|\n",
            "| 22|    student|  0.0| [653.0,57.0]|[0.91971830985915...|       0.0|\n",
            "| 22|    student|  0.0| [653.0,57.0]|[0.91971830985915...|       0.0|\n",
            "| 22|    student|  0.0| [653.0,57.0]|[0.91971830985915...|       0.0|\n",
            "| 22|    student|  0.0| [653.0,57.0]|[0.91971830985915...|       0.0|\n",
            "| 23|   services|  0.0| [653.0,57.0]|[0.91971830985915...|       0.0|\n",
            "| 23|    student|  0.0| [207.0,87.0]|[0.70408163265306...|       0.0|\n",
            "| 24|     admin.|  1.0|[180.0,291.0]|[0.38216560509554...|       1.0|\n",
            "| 24|    student|  0.0| [653.0,57.0]|[0.91971830985915...|       0.0|\n",
            "| 25|     admin.|  1.0| [653.0,57.0]|[0.91971830985915...|       0.0|\n",
            "| 25|blue-collar|  0.0| [653.0,57.0]|[0.91971830985915...|       0.0|\n",
            "| 25|blue-collar|  0.0| [653.0,57.0]|[0.91971830985915...|       0.0|\n",
            "| 25|   services|  1.0|[180.0,291.0]|[0.38216560509554...|       1.0|\n",
            "| 25|    student|  0.0| [653.0,57.0]|[0.91971830985915...|       0.0|\n",
            "| 25| technician|  0.0| [653.0,57.0]|[0.91971830985915...|       0.0|\n",
            "| 26| management|  0.0| [653.0,57.0]|[0.91971830985915...|       0.0|\n",
            "+---+-----------+-----+-------------+--------------------+----------+\n",
            "only showing top 20 rows\n",
            "\n"
          ],
          "name": "stdout"
        }
      ]
    },
    {
      "cell_type": "code",
      "metadata": {
        "id": "EU35zTALOG_q",
        "colab": {
          "base_uri": "https://localhost:8080/",
          "height": 52
        },
        "outputId": "a73bf5b9-759b-43a7-affc-fe365469948b"
      },
      "source": [
        "evaluator=BinaryClassificationEvaluator()\n",
        "#evaluateing the ROC data using metricName \n",
        "print(\"TEST data ROC:\"+str(evaluator.evaluate(predctiontree,{evaluator.metricName:\"areaUnderROC\"})))\n",
        "evaluator=MulticlassClassificationEvaluator(predictionCol=\"prediction\")\n",
        "#printing the accuracy value of prediction tree\n",
        "print(\"Accuracy of the model:\",evaluator.evaluate(predctiontree))"
      ],
      "execution_count": null,
      "outputs": [
        {
          "output_type": "stream",
          "text": [
            "TEST data ROC:0.7793120857636986\n",
            "Accuracy of the model: 0.7632919461168514\n"
          ],
          "name": "stdout"
        }
      ]
    },
    {
      "cell_type": "markdown",
      "metadata": {
        "id": "CaE-Z_IlDKXF"
      },
      "source": [
        "## 5.3 NaiveBayes"
      ]
    },
    {
      "cell_type": "code",
      "metadata": {
        "id": "v2XL6I0t7irt",
        "colab": {
          "base_uri": "https://localhost:8080/",
          "height": 301
        },
        "outputId": "0ef427aa-5fbb-492e-f7b8-4fdaf4ad0c1e"
      },
      "source": [
        "from pyspark.ml.classification import NaiveBayes\n",
        "from pyspark.ml.evaluation import MulticlassClassificationEvaluator\n",
        "#proving the naviebayes value to1\n",
        "naiveBayes=NaiveBayes(smoothing=1)\n",
        "#fit the train into the naviebayes\n",
        "navie_Model=naiveBayes.fit(train)\n",
        "#transform the naviebayes\n",
        "predctnaive=navie_Model.transform(test)\n",
        "predctnaive.filter(predctnaive['prediction']==0)\\\n",
        ".select(\"age\",\"job\",\"probability\",\"label\",\"prediction\")\\\n",
        ".orderBy(\"probability\",ascending=False)\\\n",
        ".show(n=10,truncate=30)"
      ],
      "execution_count": null,
      "outputs": [
        {
          "output_type": "stream",
          "text": [
            "+---+-------+------------------------------+-----+----------+\n",
            "|age|    job|                   probability|label|prediction|\n",
            "+---+-------+------------------------------+-----+----------+\n",
            "| 27|student|[0.9773950340740538,0.02260...|  0.0|       0.0|\n",
            "| 36|student|[0.9772737268046733,0.02272...|  0.0|       0.0|\n",
            "| 22|student|[0.9740684025844476,0.02593...|  0.0|       0.0|\n",
            "| 18|student|[0.9685991723641366,0.03140...|  0.0|       0.0|\n",
            "| 22|student|[0.9682782207895501,0.03172...|  0.0|       0.0|\n",
            "| 22|student|[0.9680938830856003,0.03190...|  0.0|       0.0|\n",
            "| 28|student|[0.9647577796177359,0.03524...|  1.0|       0.0|\n",
            "| 24|student|[0.9646015077834602,0.03539...|  0.0|       0.0|\n",
            "| 26|student|[0.9643143910687847,0.03568...|  0.0|       0.0|\n",
            "| 25|student|[0.9637497331970103,0.03625...|  0.0|       0.0|\n",
            "+---+-------+------------------------------+-----+----------+\n",
            "only showing top 10 rows\n",
            "\n"
          ],
          "name": "stdout"
        }
      ]
    },
    {
      "cell_type": "code",
      "metadata": {
        "id": "vxi0zxR9VokD",
        "colab": {
          "base_uri": "https://localhost:8080/",
          "height": 52
        },
        "outputId": "a667e29c-0b05-4b99-b587-3f8f3f262b22"
      },
      "source": [
        "evaluator=BinaryClassificationEvaluator()\n",
        "print('ROC test:'+str(evaluator.evaluate(predctnaive,{evaluator.metricName:\"areaUnderROC\"})))\n",
        "evaluator=MulticlassClassificationEvaluator(predictionCol='prediction')\n",
        "#printing the ROC test values and Accuracy of the model\n",
        "print(\"accuracy of the model:\",evaluator.evaluate(predctnaive))"
      ],
      "execution_count": null,
      "outputs": [
        {
          "output_type": "stream",
          "text": [
            "ROC test:0.5354430515720837\n",
            "accuracy of the model: 0.7038730257187632\n"
          ],
          "name": "stdout"
        }
      ]
    }
  ]
}